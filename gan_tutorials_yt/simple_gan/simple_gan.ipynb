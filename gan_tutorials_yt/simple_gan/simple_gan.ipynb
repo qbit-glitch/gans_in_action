{
 "cells": [
  {
   "cell_type": "code",
   "execution_count": 1,
   "id": "78e78b6f",
   "metadata": {},
   "outputs": [],
   "source": [
    "%rm -rf runs/"
   ]
  },
  {
   "cell_type": "code",
   "execution_count": 2,
   "id": "f62499f2",
   "metadata": {},
   "outputs": [],
   "source": [
    "# Load the TensorBoard notebook extension\n",
    "%reload_ext tensorboard"
   ]
  },
  {
   "cell_type": "code",
   "execution_count": 3,
   "id": "062baf9d",
   "metadata": {},
   "outputs": [
    {
     "name": "stdout",
     "output_type": "stream",
     "text": [
      "Simple GAN\n"
     ]
    }
   ],
   "source": [
    "print(\"Simple GAN\")"
   ]
  },
  {
   "cell_type": "code",
   "execution_count": 4,
   "id": "9a295467",
   "metadata": {},
   "outputs": [],
   "source": [
    "import torch\n",
    "import torch.nn as nn\n",
    "import torch.optim as optim\n",
    "import torchvision\n",
    "import torchvision.datasets as datasets\n",
    "from torch.utils.data import DataLoader\n",
    "import torchvision.transforms as transforms\n",
    "from torch.utils.tensorboard import SummaryWriter"
   ]
  },
  {
   "cell_type": "code",
   "execution_count": 5,
   "id": "2ab0bb5f",
   "metadata": {},
   "outputs": [],
   "source": [
    "class Discriminator(nn.Module):\n",
    "    def __init__(self, img_dim):\n",
    "        super().__init__()\n",
    "        self.disc = nn.Sequential(\n",
    "            nn.Linear(img_dim, 128),\n",
    "            nn.LeakyReLU(0.1),\n",
    "            nn.Linear(128,1),\n",
    "            nn.Sigmoid(),\n",
    "        )\n",
    "\n",
    "    def forward(self, x):\n",
    "        return self.disc(x)\n",
    "\n"
   ]
  },
  {
   "cell_type": "code",
   "execution_count": 6,
   "id": "fb1f20fe",
   "metadata": {},
   "outputs": [],
   "source": [
    "class Generator(nn.Module):\n",
    "    def __init__(self, z_dim, img_dim):\n",
    "        super().__init__()\n",
    "        self.gen = nn.Sequential(\n",
    "            nn.Linear(z_dim, 256),\n",
    "            nn.LeakyReLU(0.1),\n",
    "            nn.Linear(256, img_dim),\n",
    "            nn.Tanh(),\n",
    "        )\n",
    "\n",
    "    def forward(self, x):\n",
    "        return self.gen(x)"
   ]
  },
  {
   "cell_type": "markdown",
   "id": "96a89d1f",
   "metadata": {},
   "source": [
    "Hyperparameters etc. GANs are incredibly sensitive to hyperparameters. "
   ]
  },
  {
   "cell_type": "code",
   "execution_count": 7,
   "id": "a0503efc",
   "metadata": {},
   "outputs": [],
   "source": [
    "device = \"mps\" if torch.backends.mps.is_available() else \"cpu\"\n",
    "lr = 1e-4\n",
    "z_dim = 64      # 128, 256\n",
    "image_dim = 28 * 28 * 1   # 784\n",
    "batch_size = 32\n",
    "num_epochs = 120"
   ]
  },
  {
   "cell_type": "code",
   "execution_count": 8,
   "id": "69d5828c",
   "metadata": {},
   "outputs": [],
   "source": [
    "disc = Discriminator(image_dim).to(device)\n",
    "gen = Generator(z_dim, image_dim).to(device)\n",
    "\n",
    "fixed_noise = torch.randn((batch_size, z_dim)).to(device)\n",
    "transforms = transforms.Compose(\n",
    "    [transforms.ToTensor(), transforms.Normalize((0.5,),(0.5,))]\n",
    ")\n",
    "\n",
    "dataset = datasets.MNIST(root=\"dataset/\", transform=transforms, download = True)\n",
    "loader = DataLoader(dataset, batch_size=batch_size, shuffle=True)\n",
    "\n",
    "opt_disc = optim.Adam(disc.parameters(), lr=lr)\n",
    "opt_gen = optim.Adam(gen.parameters(), lr=lr)\n",
    "\n",
    "criterion = nn.BCELoss()\n",
    "writer_fake = SummaryWriter(f\"runs/GAN_MNIST/fake\")\n",
    "writer_real = SummaryWriter(f\"runs/GAN_MNIST/real\")\n",
    "step = 0\n",
    "\n",
    "\n"
   ]
  },
  {
   "cell_type": "markdown",
   "id": "03e7c66c",
   "metadata": {},
   "source": [
    "BCELoss docs: https://docs.pytorch.org/docs/stable/generated/torch.nn.BCELoss.html"
   ]
  },
  {
   "cell_type": "code",
   "execution_count": 9,
   "id": "a56b5614",
   "metadata": {},
   "outputs": [
    {
     "data": {
      "text/plain": [
       "Reusing TensorBoard on port 6007 (pid 82664), started 0:29:28 ago. (Use '!kill 82664' to kill it.)"
      ]
     },
     "metadata": {},
     "output_type": "display_data"
    },
    {
     "data": {
      "text/html": [
       "\n",
       "      <iframe id=\"tensorboard-frame-2a390511591620e6\" width=\"100%\" height=\"800\" frameborder=\"0\">\n",
       "      </iframe>\n",
       "      <script>\n",
       "        (function() {\n",
       "          const frame = document.getElementById(\"tensorboard-frame-2a390511591620e6\");\n",
       "          const url = new URL(\"http://localhost\");\n",
       "          const port = 6007;\n",
       "          if (port) {\n",
       "            url.port = port;\n",
       "          }\n",
       "          frame.src = url;\n",
       "        })();\n",
       "      </script>\n",
       "    "
      ],
      "text/plain": [
       "<IPython.core.display.HTML object>"
      ]
     },
     "metadata": {},
     "output_type": "display_data"
    }
   ],
   "source": [
    "%tensorboard --logdir=runs/GAN_MNIST/ --reload_interval=5"
   ]
  },
  {
   "cell_type": "code",
   "execution_count": 10,
   "id": "470b46ff",
   "metadata": {},
   "outputs": [
    {
     "name": "stdout",
     "output_type": "stream",
     "text": [
      "Epoch [0/120] \n",
      " Loss D: 0.7052, Loss G: 0.6845\n",
      "Epoch [1/120] \n",
      " Loss D: 0.5969, Loss G: 0.7816\n",
      "Epoch [2/120] \n",
      " Loss D: 0.6187, Loss G: 0.8218\n",
      "Epoch [3/120] \n",
      " Loss D: 0.6739, Loss G: 0.6970\n",
      "Epoch [4/120] \n",
      " Loss D: 0.5258, Loss G: 0.9459\n",
      "Epoch [5/120] \n",
      " Loss D: 0.5844, Loss G: 0.7974\n",
      "Epoch [6/120] \n",
      " Loss D: 0.2140, Loss G: 1.8844\n",
      "Epoch [7/120] \n",
      " Loss D: 0.5103, Loss G: 1.0086\n",
      "Epoch [8/120] \n",
      " Loss D: 0.5927, Loss G: 0.8608\n",
      "Epoch [9/120] \n",
      " Loss D: 0.2537, Loss G: 1.6945\n",
      "Epoch [10/120] \n",
      " Loss D: 0.4924, Loss G: 1.1755\n",
      "Epoch [11/120] \n",
      " Loss D: 0.3635, Loss G: 1.4054\n",
      "Epoch [12/120] \n",
      " Loss D: 0.2828, Loss G: 1.6051\n",
      "Epoch [13/120] \n",
      " Loss D: 0.2997, Loss G: 1.6120\n",
      "Epoch [14/120] \n",
      " Loss D: 0.1684, Loss G: 2.1208\n",
      "Epoch [15/120] \n",
      " Loss D: 0.3102, Loss G: 1.8995\n",
      "Epoch [16/120] \n",
      " Loss D: 0.2243, Loss G: 1.8348\n",
      "Epoch [17/120] \n",
      " Loss D: 0.1277, Loss G: 2.4117\n",
      "Epoch [18/120] \n",
      " Loss D: 0.1780, Loss G: 2.4006\n",
      "Epoch [19/120] \n",
      " Loss D: 0.2562, Loss G: 2.3403\n",
      "Epoch [20/120] \n",
      " Loss D: 0.1545, Loss G: 2.5083\n",
      "Epoch [21/120] \n",
      " Loss D: 0.2425, Loss G: 2.1379\n",
      "Epoch [22/120] \n",
      " Loss D: 0.1579, Loss G: 2.5648\n",
      "Epoch [23/120] \n",
      " Loss D: 0.2216, Loss G: 2.3736\n",
      "Epoch [24/120] \n",
      " Loss D: 0.1648, Loss G: 2.7315\n",
      "Epoch [25/120] \n",
      " Loss D: 0.2135, Loss G: 2.2710\n",
      "Epoch [26/120] \n",
      " Loss D: 0.2839, Loss G: 2.2045\n",
      "Epoch [27/120] \n",
      " Loss D: 0.2110, Loss G: 2.3795\n",
      "Epoch [28/120] \n",
      " Loss D: 0.2055, Loss G: 2.3618\n",
      "Epoch [29/120] \n",
      " Loss D: 0.2595, Loss G: 2.2290\n",
      "Epoch [30/120] \n",
      " Loss D: 0.2926, Loss G: 2.1386\n",
      "Epoch [31/120] \n",
      " Loss D: 0.3952, Loss G: 1.9384\n",
      "Epoch [32/120] \n",
      " Loss D: 0.2683, Loss G: 2.0725\n",
      "Epoch [33/120] \n",
      " Loss D: 0.4203, Loss G: 1.9100\n",
      "Epoch [34/120] \n",
      " Loss D: 0.3402, Loss G: 1.8881\n",
      "Epoch [35/120] \n",
      " Loss D: 0.4011, Loss G: 1.5115\n",
      "Epoch [36/120] \n",
      " Loss D: 0.4217, Loss G: 1.9902\n",
      "Epoch [37/120] \n",
      " Loss D: 0.5478, Loss G: 1.5687\n",
      "Epoch [38/120] \n",
      " Loss D: 0.3693, Loss G: 1.6102\n",
      "Epoch [39/120] \n",
      " Loss D: 0.4183, Loss G: 2.0099\n",
      "Epoch [40/120] \n",
      " Loss D: 0.4269, Loss G: 1.5635\n",
      "Epoch [41/120] \n",
      " Loss D: 0.5809, Loss G: 1.9459\n",
      "Epoch [42/120] \n",
      " Loss D: 0.5680, Loss G: 1.5342\n",
      "Epoch [43/120] \n",
      " Loss D: 0.3696, Loss G: 1.5841\n",
      "Epoch [44/120] \n",
      " Loss D: 0.5623, Loss G: 1.2385\n",
      "Epoch [45/120] \n",
      " Loss D: 0.4032, Loss G: 1.4159\n",
      "Epoch [46/120] \n",
      " Loss D: 0.4661, Loss G: 1.4857\n",
      "Epoch [47/120] \n",
      " Loss D: 0.3673, Loss G: 1.5843\n",
      "Epoch [48/120] \n",
      " Loss D: 0.5145, Loss G: 1.4470\n",
      "Epoch [49/120] \n",
      " Loss D: 0.5509, Loss G: 1.6384\n",
      "Epoch [50/120] \n",
      " Loss D: 0.3201, Loss G: 1.6685\n",
      "Epoch [51/120] \n",
      " Loss D: 0.6031, Loss G: 0.9818\n",
      "Epoch [52/120] \n",
      " Loss D: 0.6386, Loss G: 0.9912\n",
      "Epoch [53/120] \n",
      " Loss D: 0.6736, Loss G: 1.2237\n",
      "Epoch [54/120] \n",
      " Loss D: 0.8439, Loss G: 1.0870\n",
      "Epoch [55/120] \n",
      " Loss D: 0.6224, Loss G: 1.1525\n",
      "Epoch [56/120] \n",
      " Loss D: 0.5208, Loss G: 1.2131\n",
      "Epoch [57/120] \n",
      " Loss D: 0.6447, Loss G: 1.1502\n",
      "Epoch [58/120] \n",
      " Loss D: 0.9466, Loss G: 1.0382\n",
      "Epoch [59/120] \n",
      " Loss D: 0.7547, Loss G: 1.1220\n",
      "Epoch [60/120] \n",
      " Loss D: 0.7614, Loss G: 1.1594\n",
      "Epoch [61/120] \n",
      " Loss D: 0.6425, Loss G: 1.1496\n",
      "Epoch [62/120] \n",
      " Loss D: 0.7538, Loss G: 0.9656\n",
      "Epoch [63/120] \n",
      " Loss D: 0.6882, Loss G: 0.9639\n",
      "Epoch [64/120] \n",
      " Loss D: 0.7265, Loss G: 1.1332\n",
      "Epoch [65/120] \n",
      " Loss D: 0.4927, Loss G: 1.0868\n",
      "Epoch [66/120] \n",
      " Loss D: 0.7685, Loss G: 0.9257\n",
      "Epoch [67/120] \n",
      " Loss D: 0.6991, Loss G: 1.0665\n",
      "Epoch [68/120] \n",
      " Loss D: 0.6518, Loss G: 1.1726\n",
      "Epoch [69/120] \n",
      " Loss D: 0.5910, Loss G: 1.0181\n",
      "Epoch [70/120] \n",
      " Loss D: 0.7263, Loss G: 1.0073\n",
      "Epoch [71/120] \n",
      " Loss D: 0.6083, Loss G: 1.2876\n",
      "Epoch [72/120] \n",
      " Loss D: 0.7554, Loss G: 0.8978\n",
      "Epoch [73/120] \n",
      " Loss D: 0.6903, Loss G: 1.1136\n",
      "Epoch [74/120] \n",
      " Loss D: 0.8267, Loss G: 0.8977\n",
      "Epoch [75/120] \n",
      " Loss D: 0.7594, Loss G: 1.0077\n",
      "Epoch [76/120] \n",
      " Loss D: 0.6539, Loss G: 1.0933\n",
      "Epoch [77/120] \n",
      " Loss D: 0.6968, Loss G: 0.8761\n",
      "Epoch [78/120] \n",
      " Loss D: 0.5427, Loss G: 1.1360\n",
      "Epoch [79/120] \n",
      " Loss D: 0.5772, Loss G: 1.1750\n",
      "Epoch [80/120] \n",
      " Loss D: 0.6970, Loss G: 0.8431\n",
      "Epoch [81/120] \n",
      " Loss D: 0.7720, Loss G: 0.7973\n",
      "Epoch [82/120] \n",
      " Loss D: 0.7510, Loss G: 0.7750\n",
      "Epoch [83/120] \n",
      " Loss D: 0.7216, Loss G: 0.8069\n",
      "Epoch [84/120] \n",
      " Loss D: 0.7861, Loss G: 0.6941\n",
      "Epoch [85/120] \n",
      " Loss D: 0.7270, Loss G: 0.7987\n",
      "Epoch [86/120] \n",
      " Loss D: 0.6594, Loss G: 0.8950\n",
      "Epoch [87/120] \n",
      " Loss D: 0.6111, Loss G: 0.9880\n",
      "Epoch [88/120] \n",
      " Loss D: 0.5515, Loss G: 0.9807\n",
      "Epoch [89/120] \n",
      " Loss D: 0.6056, Loss G: 1.0864\n",
      "Epoch [90/120] \n",
      " Loss D: 0.5719, Loss G: 1.1094\n",
      "Epoch [91/120] \n",
      " Loss D: 0.5393, Loss G: 1.2174\n",
      "Epoch [92/120] \n",
      " Loss D: 0.6826, Loss G: 0.8990\n",
      "Epoch [93/120] \n",
      " Loss D: 0.6437, Loss G: 0.9052\n",
      "Epoch [94/120] \n",
      " Loss D: 0.6556, Loss G: 0.8636\n",
      "Epoch [95/120] \n",
      " Loss D: 0.6076, Loss G: 0.9276\n",
      "Epoch [96/120] \n",
      " Loss D: 0.5567, Loss G: 1.1125\n",
      "Epoch [97/120] \n",
      " Loss D: 0.5698, Loss G: 1.2056\n",
      "Epoch [98/120] \n",
      " Loss D: 0.6657, Loss G: 0.8858\n",
      "Epoch [99/120] \n",
      " Loss D: 0.6872, Loss G: 0.8942\n",
      "Epoch [100/120] \n",
      " Loss D: 0.6104, Loss G: 0.9538\n",
      "Epoch [101/120] \n",
      " Loss D: 0.5792, Loss G: 1.2044\n",
      "Epoch [102/120] \n",
      " Loss D: 0.6170, Loss G: 0.9093\n",
      "Epoch [103/120] \n",
      " Loss D: 0.6629, Loss G: 1.0374\n",
      "Epoch [104/120] \n",
      " Loss D: 0.5837, Loss G: 0.9557\n",
      "Epoch [105/120] \n",
      " Loss D: 0.5653, Loss G: 0.9964\n",
      "Epoch [106/120] \n",
      " Loss D: 0.6111, Loss G: 1.0132\n",
      "Epoch [107/120] \n",
      " Loss D: 0.5851, Loss G: 0.8614\n",
      "Epoch [108/120] \n",
      " Loss D: 0.6836, Loss G: 0.8183\n",
      "Epoch [109/120] \n",
      " Loss D: 0.6672, Loss G: 0.7905\n",
      "Epoch [110/120] \n",
      " Loss D: 0.6440, Loss G: 0.9412\n",
      "Epoch [111/120] \n",
      " Loss D: 0.6492, Loss G: 0.7915\n",
      "Epoch [112/120] \n",
      " Loss D: 0.6047, Loss G: 0.9143\n",
      "Epoch [113/120] \n",
      " Loss D: 0.5690, Loss G: 0.9058\n",
      "Epoch [114/120] \n",
      " Loss D: 0.5752, Loss G: 1.0148\n",
      "Epoch [115/120] \n",
      " Loss D: 0.8123, Loss G: 0.7240\n",
      "Epoch [116/120] \n",
      " Loss D: 0.6691, Loss G: 0.6613\n",
      "Epoch [117/120] \n",
      " Loss D: 0.6762, Loss G: 0.8877\n",
      "Epoch [118/120] \n",
      " Loss D: 0.6158, Loss G: 0.8684\n",
      "Epoch [119/120] \n",
      " Loss D: 0.6650, Loss G: 0.8726\n"
     ]
    }
   ],
   "source": [
    "for epoch in range(num_epochs):\n",
    "    for batch_idx, (real,_) in enumerate(loader):\n",
    "        real = real.view(-1, 784).to(device)\n",
    "        batch_size = real.shape[0]\n",
    "\n",
    "        ### Train the Discriminator: max log(D(real)) + log(1-D(G(z)))\n",
    "        noise = torch.randn(batch_size, z_dim).to(device)\n",
    "        fake = gen(noise)\n",
    "        disc_real = disc(real).view(-1)\n",
    "        lossD_real = criterion(disc_real, torch.ones_like(disc_real))\n",
    "        disc_fake = disc(fake).view(-1)\n",
    "        lossD_fake = criterion(disc_fake, torch.zeros_like(disc_fake))\n",
    "\n",
    "        lossD = (lossD_real + lossD_fake)/2\n",
    "        disc.zero_grad()\n",
    "        lossD.backward(retain_graph=True)    # retain_graph = True -> important for retaining the intermediate gradients during backprop\n",
    "        opt_disc.step()\n",
    "\n",
    "\n",
    "        ### Train the Generator : min log(1-D(G(z)))  <-> max log(D(G(z)))\n",
    "        output = disc(fake).view(-1)\n",
    "        lossG = criterion(output, torch.ones_like(output))\n",
    "        gen.zero_grad()\n",
    "        lossG.backward()\n",
    "        opt_gen.step()\n",
    "\n",
    "        ## Some additional codes for tensorboard\n",
    "        if batch_idx == 0 :\n",
    "            print(\n",
    "                f\"Epoch [{epoch}/{num_epochs}] \\n\",\n",
    "                f\"Loss D: {lossD:.4f}, Loss G: {lossG:.4f}\"\n",
    "            )\n",
    "\n",
    "            with torch.no_grad():\n",
    "                fake = gen(fixed_noise).reshape(-1,1,28,28)\n",
    "                data = real.reshape(-1,1,28,28)\n",
    "                img_grid_fake = torchvision.utils.make_grid(fake, normalize=True)\n",
    "                img_grid_real = torchvision.utils.make_grid(data, normalize=True)\n",
    "\n",
    "                writer_fake.add_image(\n",
    "                    \"MNIST Fake Images\", img_grid_fake, global_step=step\n",
    "                )\n",
    "\n",
    "                writer_real.add_image(\n",
    "                    \"MNIST real Images\", img_grid_real, global_step=step\n",
    "                )\n",
    "                step += 1\n",
    "\n",
    "writer_real.close()\n",
    "writer_fake.close()\n"
   ]
  },
  {
   "cell_type": "markdown",
   "id": "60154547",
   "metadata": {},
   "source": [
    "Things to try :\n",
    "1. What happens if you use larger network ?\n",
    "2. Better normalization with BatchNorm\n",
    "3. Different learning rate (is there a better one) ?\n",
    "4. Change the architecture to a CNN"
   ]
  },
  {
   "cell_type": "code",
   "execution_count": 11,
   "id": "c556e124",
   "metadata": {},
   "outputs": [
    {
     "name": "stdout",
     "output_type": "stream",
     "text": [
      "mps\n"
     ]
    }
   ],
   "source": [
    "# Run this command in terminal to start the tensorboad: \n",
    "# tensorboard --logdir=runs/GAN_MNIST/\n",
    "print(device)"
   ]
  },
  {
   "cell_type": "code",
   "execution_count": 12,
   "id": "eba28deb",
   "metadata": {},
   "outputs": [
    {
     "data": {
      "text/plain": [
       "Reusing TensorBoard on port 6007 (pid 82664), started 0:41:10 ago. (Use '!kill 82664' to kill it.)"
      ]
     },
     "metadata": {},
     "output_type": "display_data"
    },
    {
     "data": {
      "text/html": [
       "\n",
       "      <iframe id=\"tensorboard-frame-cf0666755fbea790\" width=\"100%\" height=\"800\" frameborder=\"0\">\n",
       "      </iframe>\n",
       "      <script>\n",
       "        (function() {\n",
       "          const frame = document.getElementById(\"tensorboard-frame-cf0666755fbea790\");\n",
       "          const url = new URL(\"http://localhost\");\n",
       "          const port = 6007;\n",
       "          if (port) {\n",
       "            url.port = port;\n",
       "          }\n",
       "          frame.src = url;\n",
       "        })();\n",
       "      </script>\n",
       "    "
      ],
      "text/plain": [
       "<IPython.core.display.HTML object>"
      ]
     },
     "metadata": {},
     "output_type": "display_data"
    }
   ],
   "source": [
    "%tensorboard --logdir=runs/GAN_MNIST/ --reload_interval=5"
   ]
  },
  {
   "cell_type": "code",
   "execution_count": null,
   "id": "2dd73f3e",
   "metadata": {},
   "outputs": [],
   "source": []
  },
  {
   "cell_type": "code",
   "execution_count": null,
   "id": "6ef343bd",
   "metadata": {},
   "outputs": [],
   "source": []
  }
 ],
 "metadata": {
  "kernelspec": {
   "display_name": "gans_in_action_env",
   "language": "python",
   "name": "python3"
  },
  "language_info": {
   "codemirror_mode": {
    "name": "ipython",
    "version": 3
   },
   "file_extension": ".py",
   "mimetype": "text/x-python",
   "name": "python",
   "nbconvert_exporter": "python",
   "pygments_lexer": "ipython3",
   "version": "3.13.5"
  }
 },
 "nbformat": 4,
 "nbformat_minor": 5
}
