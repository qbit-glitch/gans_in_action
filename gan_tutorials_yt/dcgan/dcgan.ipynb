{
 "cells": [
  {
   "cell_type": "markdown",
   "id": "f8e4813b",
   "metadata": {},
   "source": [
    "## DCGAN\n",
    "\n",
    "Resource Link: https://youtu.be/IZtv9s_Wx9I\n",
    "\n",
    "Paper Link: https://arxiv.org/abs/1511.06434"
   ]
  },
  {
   "cell_type": "code",
   "execution_count": 29,
   "id": "441c0c6e",
   "metadata": {},
   "outputs": [],
   "source": [
    "# Clear previous tensorboard logs\n",
    "%rm -rf logs/"
   ]
  },
  {
   "cell_type": "code",
   "execution_count": 30,
   "id": "d554e923",
   "metadata": {},
   "outputs": [
    {
     "name": "stdout",
     "output_type": "stream",
     "text": [
      "DCGAN - Deep Convolution GAN\n"
     ]
    }
   ],
   "source": [
    "print(\"DCGAN - Deep Convolution GAN\")"
   ]
  },
  {
   "cell_type": "code",
   "execution_count": 31,
   "id": "3c800f86",
   "metadata": {},
   "outputs": [],
   "source": [
    "%reload_ext tensorboard"
   ]
  },
  {
   "cell_type": "code",
   "execution_count": 32,
   "id": "ec655bf5",
   "metadata": {},
   "outputs": [
    {
     "data": {
      "text/plain": [
       "Reusing TensorBoard on port 6006 (pid 16970), started 0:14:48 ago. (Use '!kill 16970' to kill it.)"
      ]
     },
     "metadata": {},
     "output_type": "display_data"
    },
    {
     "data": {
      "text/html": [
       "\n",
       "      <iframe id=\"tensorboard-frame-9ff5f38763ce21dd\" width=\"100%\" height=\"800\" frameborder=\"0\">\n",
       "      </iframe>\n",
       "      <script>\n",
       "        (function() {\n",
       "          const frame = document.getElementById(\"tensorboard-frame-9ff5f38763ce21dd\");\n",
       "          const url = new URL(\"http://localhost\");\n",
       "          const port = 6006;\n",
       "          if (port) {\n",
       "            url.port = port;\n",
       "          }\n",
       "          frame.src = url;\n",
       "        })();\n",
       "      </script>\n",
       "    "
      ],
      "text/plain": [
       "<IPython.core.display.HTML object>"
      ]
     },
     "metadata": {},
     "output_type": "display_data"
    }
   ],
   "source": [
    "# Start the tensorboard server (default is port 6006)\n",
    "%tensorboard --logdir=logs/ --reload_interval=5"
   ]
  },
  {
   "cell_type": "code",
   "execution_count": 33,
   "id": "3e5a0021",
   "metadata": {},
   "outputs": [],
   "source": [
    "import torch\n",
    "import torch.nn as nn\n"
   ]
  },
  {
   "cell_type": "code",
   "execution_count": 34,
   "id": "d05f9cb9",
   "metadata": {},
   "outputs": [],
   "source": [
    "class Discriminator(nn.Module):\n",
    "    def __init__(self, channels_img, features_d):\n",
    "        super(Discriminator, self).__init__()\n",
    "        self.disc = nn.Sequential(\n",
    "            # Input: N x channels_img x 64 x 64\n",
    "            nn.Conv2d(channels_img, features_d, kernel_size=4, stride=2, padding=1),    # 32x32\n",
    "            nn.LeakyReLU(0.2),\n",
    "            self._block(features_d, features_d * 2, 4,2,1),     # 16x16\n",
    "            self._block(features_d * 2, features_d * 4, 4,2,1), # 8x8\n",
    "            self._block(features_d*4, features_d * 8, 4,2,1),   # 4x4\n",
    "            nn.Conv2d(features_d*8, 1, kernel_size=4, stride=2, padding=0),\n",
    "            nn.Sigmoid(),   # to ensure that the valuea are between 0 and 1\n",
    "        )\n",
    "\n",
    "    def _block(self, in_channels, out_channels, kernel_size, stride, padding):\n",
    "        return nn.Sequential(\n",
    "            nn.Conv2d(in_channels, out_channels, kernel_size, stride, padding, bias=False,),\n",
    "            nn.BatchNorm2d(out_channels),\n",
    "            nn.LeakyReLU(0.2),\n",
    "        )\n",
    "\n",
    "    def forward(self,x):\n",
    "        return self.disc(x)\n",
    "        "
   ]
  },
  {
   "cell_type": "code",
   "execution_count": 35,
   "id": "85830be2",
   "metadata": {},
   "outputs": [],
   "source": [
    "\n",
    "class Generator(nn.Module):\n",
    "    def __init__(self, z_dim, channels_img, features_g):\n",
    "        super(Generator, self).__init__()\n",
    "        self.gen = nn.Sequential(\n",
    "            # Input: N x z_dim x 1 x 1\n",
    "            self._block(z_dim, features_g*16, 4,1,0),   # N x f_g*16 x 4 x 4\n",
    "            self._block(features_g*16, features_g*8, 4,2,1),    # 8x8\n",
    "            self._block(features_g*8, features_g*4, 4,2,1),     # 16x16\n",
    "            self._block(features_g*4, features_g*2, 4,2,1),     # 32x32\n",
    "            nn.ConvTranspose2d(\n",
    "                features_g*2, channels_img, kernel_size=4, stride=2, padding=1,\n",
    "            ),      # 64x64\n",
    "            nn.Tanh(),  # [-1,1]  \n",
    "        )\n",
    "\n",
    "    def _block(self, in_channels, out_channels, kernel_size, stride, padding):\n",
    "        return nn.Sequential(\n",
    "            nn.ConvTranspose2d(\n",
    "                in_channels, out_channels, kernel_size, stride, padding, bias=False,\n",
    "            ),\n",
    "            nn.BatchNorm2d(out_channels),\n",
    "            nn.ReLU(),\n",
    "        )\n",
    "\n",
    "    def forward(self, x):\n",
    "        return self.gen(x)"
   ]
  },
  {
   "cell_type": "code",
   "execution_count": 36,
   "id": "dd0c0ac4",
   "metadata": {},
   "outputs": [],
   "source": [
    "# Mean=0, standatd deviaiton = 0.02\n",
    "def initialize_weights(model):\n",
    "    for m in model.modules():\n",
    "        if isinstance(m, (nn.Conv2d, nn.ConvTranspose2d, nn.BatchNorm2d)):\n",
    "            nn.init.normal_(m.weight.data, 0.0, 0.02)\n",
    "            "
   ]
  },
  {
   "cell_type": "code",
   "execution_count": 37,
   "id": "4201a87b",
   "metadata": {},
   "outputs": [],
   "source": [
    "def test():\n",
    "    N, in_channels, H, W = 8,3,64,64\n",
    "    z_dim = 100\n",
    "    x = torch.randn((N, in_channels, H, W))\n",
    "    disc = Discriminator(in_channels, 8)\n",
    "    initialize_weights(disc)\n",
    "    assert disc(x).shape == (N,1,1,1)\n",
    "    \n",
    "    gen = Generator(z_dim, in_channels, 8)\n",
    "    z = torch.randn((N, z_dim, 1, 1))\n",
    "    initialize_weights(gen)\n",
    "    \n",
    "    assert gen(z).shape == (N, in_channels, H, W)\n",
    "    print(\"Success\")"
   ]
  },
  {
   "cell_type": "code",
   "execution_count": 38,
   "id": "15d7e446",
   "metadata": {},
   "outputs": [
    {
     "name": "stdout",
     "output_type": "stream",
     "text": [
      "Success\n"
     ]
    }
   ],
   "source": [
    "test()"
   ]
  },
  {
   "cell_type": "markdown",
   "id": "384ae6d5",
   "metadata": {},
   "source": [
    "### Setup of Training"
   ]
  },
  {
   "cell_type": "code",
   "execution_count": 39,
   "id": "6cb8948f",
   "metadata": {},
   "outputs": [],
   "source": [
    "import torch\n",
    "import torch.nn as nn\n",
    "import torch.optim as optim\n",
    "import torchvision\n",
    "import torchvision.datasets as datasets\n",
    "import torchvision.transforms as transforms\n",
    "from torch.utils.data import DataLoader\n",
    "from torch.utils.tensorboard import SummaryWriter\n",
    "# from model import Discriminator, Generator, initialize_weights\n",
    " "
   ]
  },
  {
   "cell_type": "markdown",
   "id": "ce87f634",
   "metadata": {},
   "source": [
    "Setting up the Hyperparameters ,etc.\n"
   ]
  },
  {
   "cell_type": "code",
   "execution_count": 40,
   "id": "800cc1bd",
   "metadata": {},
   "outputs": [],
   "source": [
    "device = torch.device(\"mps\" if torch.backends.mps.is_available() else \"cpu\")\n",
    "LEARNING_RATE = 2e-4\n",
    "BATCH_SIZE = 128\n",
    "IMAGE_SIZE = 64\n",
    "CHANNELS_IMG = 1\n",
    "Z_DIM = 100\n",
    "NUM_EPOCHS = 10\n",
    "FEATURES_DISC = 64\n",
    "FEATURES_GEN = 64"
   ]
  },
  {
   "cell_type": "code",
   "execution_count": 41,
   "id": "dbbf64f4",
   "metadata": {},
   "outputs": [],
   "source": [
    "transforms = transforms.Compose(\n",
    "    [\n",
    "        transforms.Resize(IMAGE_SIZE),\n",
    "        transforms.ToTensor(),\n",
    "        transforms.Normalize(\n",
    "            [0.5 for _ in range(CHANNELS_IMG)], [0.5 for _ in range(CHANNELS_IMG)]\n",
    "        ),\n",
    "    ]\n",
    ")"
   ]
  },
  {
   "cell_type": "code",
   "execution_count": 42,
   "id": "45af90f9",
   "metadata": {},
   "outputs": [
    {
     "name": "stdout",
     "output_type": "stream",
     "text": [
      "Generator(\n",
      "  (gen): Sequential(\n",
      "    (0): Sequential(\n",
      "      (0): ConvTranspose2d(100, 1024, kernel_size=(4, 4), stride=(1, 1), bias=False)\n",
      "      (1): BatchNorm2d(1024, eps=1e-05, momentum=0.1, affine=True, track_running_stats=True)\n",
      "      (2): ReLU()\n",
      "    )\n",
      "    (1): Sequential(\n",
      "      (0): ConvTranspose2d(1024, 512, kernel_size=(4, 4), stride=(2, 2), padding=(1, 1), bias=False)\n",
      "      (1): BatchNorm2d(512, eps=1e-05, momentum=0.1, affine=True, track_running_stats=True)\n",
      "      (2): ReLU()\n",
      "    )\n",
      "    (2): Sequential(\n",
      "      (0): ConvTranspose2d(512, 256, kernel_size=(4, 4), stride=(2, 2), padding=(1, 1), bias=False)\n",
      "      (1): BatchNorm2d(256, eps=1e-05, momentum=0.1, affine=True, track_running_stats=True)\n",
      "      (2): ReLU()\n",
      "    )\n",
      "    (3): Sequential(\n",
      "      (0): ConvTranspose2d(256, 128, kernel_size=(4, 4), stride=(2, 2), padding=(1, 1), bias=False)\n",
      "      (1): BatchNorm2d(128, eps=1e-05, momentum=0.1, affine=True, track_running_stats=True)\n",
      "      (2): ReLU()\n",
      "    )\n",
      "    (4): ConvTranspose2d(128, 1, kernel_size=(4, 4), stride=(2, 2), padding=(1, 1))\n",
      "    (5): Tanh()\n",
      "  )\n",
      ")\n"
     ]
    },
    {
     "data": {
      "text/plain": [
       "Discriminator(\n",
       "  (disc): Sequential(\n",
       "    (0): Conv2d(1, 64, kernel_size=(4, 4), stride=(2, 2), padding=(1, 1))\n",
       "    (1): LeakyReLU(negative_slope=0.2)\n",
       "    (2): Sequential(\n",
       "      (0): Conv2d(64, 128, kernel_size=(4, 4), stride=(2, 2), padding=(1, 1), bias=False)\n",
       "      (1): BatchNorm2d(128, eps=1e-05, momentum=0.1, affine=True, track_running_stats=True)\n",
       "      (2): LeakyReLU(negative_slope=0.2)\n",
       "    )\n",
       "    (3): Sequential(\n",
       "      (0): Conv2d(128, 256, kernel_size=(4, 4), stride=(2, 2), padding=(1, 1), bias=False)\n",
       "      (1): BatchNorm2d(256, eps=1e-05, momentum=0.1, affine=True, track_running_stats=True)\n",
       "      (2): LeakyReLU(negative_slope=0.2)\n",
       "    )\n",
       "    (4): Sequential(\n",
       "      (0): Conv2d(256, 512, kernel_size=(4, 4), stride=(2, 2), padding=(1, 1), bias=False)\n",
       "      (1): BatchNorm2d(512, eps=1e-05, momentum=0.1, affine=True, track_running_stats=True)\n",
       "      (2): LeakyReLU(negative_slope=0.2)\n",
       "    )\n",
       "    (5): Conv2d(512, 1, kernel_size=(4, 4), stride=(2, 2))\n",
       "    (6): Sigmoid()\n",
       "  )\n",
       ")"
      ]
     },
     "execution_count": 42,
     "metadata": {},
     "output_type": "execute_result"
    }
   ],
   "source": [
    "dataset = datasets.MNIST(root=\"dataset/\", train=True, transform=transforms, download=True)\n",
    "\n",
    "loader = DataLoader(dataset, batch_size=BATCH_SIZE, shuffle=True)\n",
    "\n",
    "gen = Generator(Z_DIM, CHANNELS_IMG, FEATURES_GEN).to(device)\n",
    "disc = Discriminator(CHANNELS_IMG, FEATURES_DISC).to(device)\n",
    "\n",
    "initialize_weights(gen)\n",
    "initialize_weights(disc)\n",
    "\n",
    "opt_gen = optim.Adam(gen.parameters(), lr=LEARNING_RATE, betas=(0.5,0.999))\n",
    "opt_disc = optim.Adam(disc.parameters(), lr=LEARNING_RATE, betas=(0.5,0.999))\n",
    "criterion = nn.BCELoss()\n",
    "\n",
    "fixed_noise = torch.randn(32, Z_DIM, 1,1).to(device)\n",
    "writer_real = SummaryWriter(f\"logs/real\")\n",
    "writer_fake = SummaryWriter(f\"logs/fake\")\n",
    "\n",
    "step = 0\n",
    "\n",
    "## Send both the networks to training modes\n",
    "print(gen.train())\n",
    "disc.train()"
   ]
  },
  {
   "cell_type": "code",
   "execution_count": 43,
   "id": "8cb0cdce",
   "metadata": {},
   "outputs": [
    {
     "name": "stdout",
     "output_type": "stream",
     "text": [
      "Epoch [0/10 Batch 0/469 \n",
      " Loss D: 0.6924, Loss G: 0.7892]\n",
      "Epoch [0/10 Batch 100/469 \n",
      " Loss D: 0.0149, Loss G: 4.1057]\n",
      "Epoch [0/10 Batch 200/469 \n",
      " Loss D: 1.1873, Loss G: 0.2146]\n",
      "Epoch [0/10 Batch 300/469 \n",
      " Loss D: 0.6181, Loss G: 1.8031]\n",
      "Epoch [0/10 Batch 400/469 \n",
      " Loss D: 0.4916, Loss G: 1.4346]\n",
      "Epoch [1/10 Batch 0/469 \n",
      " Loss D: 0.5818, Loss G: 1.3469]\n",
      "Epoch [1/10 Batch 100/469 \n",
      " Loss D: 0.6230, Loss G: 0.5844]\n",
      "Epoch [1/10 Batch 200/469 \n",
      " Loss D: 0.6292, Loss G: 0.9937]\n",
      "Epoch [1/10 Batch 300/469 \n",
      " Loss D: 0.5880, Loss G: 0.9252]\n",
      "Epoch [1/10 Batch 400/469 \n",
      " Loss D: 0.5647, Loss G: 1.2622]\n",
      "Epoch [2/10 Batch 0/469 \n",
      " Loss D: 0.6065, Loss G: 1.1093]\n",
      "Epoch [2/10 Batch 100/469 \n",
      " Loss D: 0.5863, Loss G: 0.9617]\n",
      "Epoch [2/10 Batch 200/469 \n",
      " Loss D: 0.5826, Loss G: 0.9707]\n",
      "Epoch [2/10 Batch 300/469 \n",
      " Loss D: 0.6570, Loss G: 0.6381]\n",
      "Epoch [2/10 Batch 400/469 \n",
      " Loss D: 0.6165, Loss G: 0.8440]\n",
      "Epoch [3/10 Batch 0/469 \n",
      " Loss D: 0.5902, Loss G: 0.9959]\n",
      "Epoch [3/10 Batch 100/469 \n",
      " Loss D: 0.5118, Loss G: 2.5196]\n",
      "Epoch [3/10 Batch 200/469 \n",
      " Loss D: 0.5552, Loss G: 1.2524]\n",
      "Epoch [3/10 Batch 300/469 \n",
      " Loss D: 0.7376, Loss G: 0.5317]\n",
      "Epoch [3/10 Batch 400/469 \n",
      " Loss D: 0.5086, Loss G: 2.9486]\n",
      "Epoch [4/10 Batch 0/469 \n",
      " Loss D: 0.3771, Loss G: 1.2305]\n",
      "Epoch [4/10 Batch 100/469 \n",
      " Loss D: 0.6324, Loss G: 0.9394]\n",
      "Epoch [4/10 Batch 200/469 \n",
      " Loss D: 0.3221, Loss G: 1.9341]\n",
      "Epoch [4/10 Batch 300/469 \n",
      " Loss D: 0.2388, Loss G: 3.0658]\n",
      "Epoch [4/10 Batch 400/469 \n",
      " Loss D: 0.4250, Loss G: 4.2536]\n",
      "Epoch [5/10 Batch 0/469 \n",
      " Loss D: 0.2970, Loss G: 3.0221]\n",
      "Epoch [5/10 Batch 100/469 \n",
      " Loss D: 0.3250, Loss G: 1.3214]\n",
      "Epoch [5/10 Batch 200/469 \n",
      " Loss D: 0.2328, Loss G: 1.2922]\n",
      "Epoch [5/10 Batch 300/469 \n",
      " Loss D: 0.2113, Loss G: 2.0592]\n",
      "Epoch [5/10 Batch 400/469 \n",
      " Loss D: 0.1946, Loss G: 4.5068]\n",
      "Epoch [6/10 Batch 0/469 \n",
      " Loss D: 0.2514, Loss G: 2.2887]\n",
      "Epoch [6/10 Batch 100/469 \n",
      " Loss D: 0.3605, Loss G: 1.9339]\n",
      "Epoch [6/10 Batch 200/469 \n",
      " Loss D: 0.1484, Loss G: 2.2160]\n",
      "Epoch [6/10 Batch 300/469 \n",
      " Loss D: 0.2721, Loss G: 1.0424]\n",
      "Epoch [6/10 Batch 400/469 \n",
      " Loss D: 0.2928, Loss G: 2.2998]\n",
      "Epoch [7/10 Batch 0/469 \n",
      " Loss D: 0.0633, Loss G: 3.1200]\n",
      "Epoch [7/10 Batch 100/469 \n",
      " Loss D: 0.2893, Loss G: 6.5195]\n",
      "Epoch [7/10 Batch 200/469 \n",
      " Loss D: 0.2900, Loss G: 2.6469]\n",
      "Epoch [7/10 Batch 300/469 \n",
      " Loss D: 0.1862, Loss G: 2.2890]\n",
      "Epoch [7/10 Batch 400/469 \n",
      " Loss D: 0.0612, Loss G: 3.2788]\n",
      "Epoch [8/10 Batch 0/469 \n",
      " Loss D: 0.0414, Loss G: 3.9137]\n",
      "Epoch [8/10 Batch 100/469 \n",
      " Loss D: 0.7868, Loss G: 0.5728]\n",
      "Epoch [8/10 Batch 200/469 \n",
      " Loss D: 0.4326, Loss G: 6.1718]\n",
      "Epoch [8/10 Batch 300/469 \n",
      " Loss D: 0.2923, Loss G: 2.2139]\n",
      "Epoch [8/10 Batch 400/469 \n",
      " Loss D: 0.4338, Loss G: 2.1598]\n",
      "Epoch [9/10 Batch 0/469 \n",
      " Loss D: 0.0503, Loss G: 4.2875]\n",
      "Epoch [9/10 Batch 100/469 \n",
      " Loss D: 0.0637, Loss G: 3.4606]\n",
      "Epoch [9/10 Batch 200/469 \n",
      " Loss D: 0.0368, Loss G: 4.7117]\n",
      "Epoch [9/10 Batch 300/469 \n",
      " Loss D: 0.0594, Loss G: 4.4903]\n",
      "Epoch [9/10 Batch 400/469 \n",
      " Loss D: 0.0320, Loss G: 4.3133]\n"
     ]
    }
   ],
   "source": [
    "for epoch in range(NUM_EPOCHS):\n",
    "    for batch_idx, (real, _) in enumerate(loader):\n",
    "        real = real.to(device)\n",
    "        noise = torch.randn((BATCH_SIZE, Z_DIM, 1,1)).to(device)\n",
    "        fake = gen(noise)\n",
    "\n",
    "        ### Train the discriminator: max log(D(x)) + log(1-D(G(x)))\n",
    "        disc_real = disc(real).reshape(-1)\n",
    "        loss_disc_real = criterion(disc_real, torch.ones_like(disc_real))\n",
    "        disc_fake = disc(fake).reshape(-1)\n",
    "        loss_disc_fake = criterion(disc_fake, torch.zeros_like(disc_fake))\n",
    "\n",
    "        loss_disc = (loss_disc_real + loss_disc_fake)/2\n",
    "        disc.zero_grad()\n",
    "        loss_disc.backward(retain_graph = True)\n",
    "        opt_disc.step()\n",
    "\n",
    "        ### Train the Generator: min log(1-D(G(z))) <-> max log(D(G(z)))\n",
    "        output = disc(fake).reshape(-1)\n",
    "        loss_gen = criterion(output, torch.ones_like(output))\n",
    "        gen.zero_grad()\n",
    "        loss_gen.backward()\n",
    "        opt_gen.step()\n",
    "\n",
    "        ###  Print Losses occasionally and print to tensorboard\n",
    "        if batch_idx % 100 == 0:\n",
    "            print(f\"Epoch [{epoch}/{NUM_EPOCHS} Batch {batch_idx}/{len(loader)} \\n Loss D: {loss_disc:.4f}, Loss G: {loss_gen:.4f}]\")\n",
    "\n",
    "            with torch.no_grad():\n",
    "                fake = gen(fixed_noise)\n",
    "                # Take out (upto) 32 examples\n",
    "                img_grid_real = torchvision.utils.make_grid(\n",
    "                    real[:32], normalize=True\n",
    "                )\n",
    "                img_grid_fake = torchvision.utils.make_grid(\n",
    "                    fake[:32], normalize=True\n",
    "                )\n",
    "\n",
    "                writer_real.add_image(\"Real\", img_grid_real, global_step=step)\n",
    "\n",
    "                writer_fake.add_image(\"Fake\", img_grid_fake, global_step=step)\n",
    "            \n",
    "            step += 1\n"
   ]
  },
  {
   "cell_type": "code",
   "execution_count": 44,
   "id": "c64e36a1",
   "metadata": {},
   "outputs": [
    {
     "data": {
      "text/plain": [
       "Reusing TensorBoard on port 6006 (pid 16970), started 0:37:37 ago. (Use '!kill 16970' to kill it.)"
      ]
     },
     "metadata": {},
     "output_type": "display_data"
    },
    {
     "data": {
      "text/html": [
       "\n",
       "      <iframe id=\"tensorboard-frame-784ec26c804a0d4c\" width=\"100%\" height=\"800\" frameborder=\"0\">\n",
       "      </iframe>\n",
       "      <script>\n",
       "        (function() {\n",
       "          const frame = document.getElementById(\"tensorboard-frame-784ec26c804a0d4c\");\n",
       "          const url = new URL(\"http://localhost\");\n",
       "          const port = 6006;\n",
       "          if (port) {\n",
       "            url.port = port;\n",
       "          }\n",
       "          frame.src = url;\n",
       "        })();\n",
       "      </script>\n",
       "    "
      ],
      "text/plain": [
       "<IPython.core.display.HTML object>"
      ]
     },
     "metadata": {},
     "output_type": "display_data"
    }
   ],
   "source": [
    "%tensorboard --logdir=logs/ --reload_interval=5"
   ]
  },
  {
   "cell_type": "code",
   "execution_count": null,
   "id": "eaa0321f",
   "metadata": {},
   "outputs": [],
   "source": []
  }
 ],
 "metadata": {
  "kernelspec": {
   "display_name": "gans_in_action_env",
   "language": "python",
   "name": "python3"
  },
  "language_info": {
   "codemirror_mode": {
    "name": "ipython",
    "version": 3
   },
   "file_extension": ".py",
   "mimetype": "text/x-python",
   "name": "python",
   "nbconvert_exporter": "python",
   "pygments_lexer": "ipython3",
   "version": "3.13.5"
  }
 },
 "nbformat": 4,
 "nbformat_minor": 5
}
