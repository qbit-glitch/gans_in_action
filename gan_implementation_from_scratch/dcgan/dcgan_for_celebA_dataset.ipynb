{
 "cells": [
  {
   "cell_type": "markdown",
   "id": "f8e4813b",
   "metadata": {},
   "source": [
    "## DCGAN\n",
    "\n",
    "CelebA Dataset on Kaggle: https://www.kaggle.com/datasets/504743cb487a5aed565ce14238c6343b7d650ffd28c071f03f2fd9b25819e6c9\n",
    "\n",
    "Paper Link: https://arxiv.org/abs/1511.06434"
   ]
  },
  {
   "cell_type": "code",
   "execution_count": null,
   "id": "d554e923",
   "metadata": {},
   "outputs": [],
   "source": [
    "print(\"DCGAN - Deep Convolution GAN : On CelebA Dataset\")"
   ]
  },
  {
   "cell_type": "code",
   "execution_count": null,
   "id": "441c0c6e",
   "metadata": {},
   "outputs": [],
   "source": [
    "# Clear previous tensorboard logs\n",
    "%rm -rf logs/"
   ]
  },
  {
   "cell_type": "code",
   "execution_count": null,
   "id": "3c800f86",
   "metadata": {},
   "outputs": [],
   "source": [
    "# make sure to load tensorboard or reload if already loaded \n",
    "%load_ext tensorboard"
   ]
  },
  {
   "cell_type": "code",
   "execution_count": null,
   "id": "ec655bf5",
   "metadata": {},
   "outputs": [],
   "source": [
    "# start the tensorboard server (default is port 6006)\n",
    "%tensorboard --logdir=logs/ --reload_interval=5"
   ]
  },
  {
   "cell_type": "code",
   "execution_count": null,
   "id": "3e5a0021",
   "metadata": {},
   "outputs": [],
   "source": [
    "import torch\n",
    "import torch.nn as nn"
   ]
  },
  {
   "cell_type": "code",
   "execution_count": null,
   "id": "d05f9cb9",
   "metadata": {},
   "outputs": [],
   "source": [
    "class Discriminator(nn.Module):\n",
    "    def __init__(self, channels_img, features_d):\n",
    "        super(Discriminator, self).__init__()\n",
    "        self.disc = nn.Sequential(\n",
    "            # Input: N x channels_img x 64 x 64\n",
    "            nn.Conv2d(channels_img, features_d, kernel_size=4, stride=2, padding=1),    # 32x32\n",
    "            nn.LeakyReLU(0.2),\n",
    "            self._block(features_d, features_d * 2, 4,2,1),     # 16x16\n",
    "            self._block(features_d * 2, features_d * 4, 4,2,1), # 8x8\n",
    "            self._block(features_d*4, features_d * 8, 4,2,1),   # 4x4\n",
    "            nn.Conv2d(features_d*8, 1, kernel_size=4, stride=2, padding=0),\n",
    "            nn.Sigmoid(),   # to ensure that the valuea are between 0 and 1\n",
    "        )\n",
    "\n",
    "    def _block(self, in_channels, out_channels, kernel_size, stride, padding):\n",
    "        return nn.Sequential(\n",
    "            nn.Conv2d(in_channels, out_channels, kernel_size, stride, padding, bias=False,),\n",
    "            nn.BatchNorm2d(out_channels),\n",
    "            nn.LeakyReLU(0.2),\n",
    "        )\n",
    "\n",
    "    def forward(self,x):\n",
    "        return self.disc(x)\n",
    "        "
   ]
  },
  {
   "cell_type": "code",
   "execution_count": null,
   "id": "85830be2",
   "metadata": {},
   "outputs": [],
   "source": [
    "\n",
    "class Generator(nn.Module):\n",
    "    def __init__(self, z_dim, channels_img, features_g):\n",
    "        super(Generator, self).__init__()\n",
    "        self.gen = nn.Sequential(\n",
    "            # Input: N x z_dim x 1 x 1\n",
    "            self._block(z_dim, features_g*16, 4,1,0),   # N x f_g*16 x 4 x 4\n",
    "            self._block(features_g*16, features_g*8, 4,2,1),    # 8x8\n",
    "            self._block(features_g*8, features_g*4, 4,2,1),     # 16x16\n",
    "            self._block(features_g*4, features_g*2, 4,2,1),     # 32x32\n",
    "            nn.ConvTranspose2d(\n",
    "                features_g*2, channels_img, kernel_size=4, stride=2, padding=1,\n",
    "            ),      # 64x64\n",
    "            nn.Tanh(),  # [-1,1]  \n",
    "        )\n",
    "\n",
    "    def _block(self, in_channels, out_channels, kernel_size, stride, padding):\n",
    "        return nn.Sequential(\n",
    "            nn.ConvTranspose2d(\n",
    "                in_channels, out_channels, kernel_size, stride, padding, bias=False,\n",
    "            ),\n",
    "            nn.BatchNorm2d(out_channels),\n",
    "            nn.ReLU(),\n",
    "        )\n",
    "\n",
    "    def forward(self, x):\n",
    "        return self.gen(x)"
   ]
  },
  {
   "cell_type": "code",
   "execution_count": null,
   "id": "dd0c0ac4",
   "metadata": {},
   "outputs": [],
   "source": [
    "# Mean=0, standatd deviaiton = 0.02\n",
    "def initialize_weights(model):\n",
    "    for m in model.modules():\n",
    "        if isinstance(m, (nn.Conv2d, nn.ConvTranspose2d, nn.BatchNorm2d)):\n",
    "            nn.init.normal_(m.weight.data, 0.0, 0.02)\n",
    "            "
   ]
  },
  {
   "cell_type": "code",
   "execution_count": null,
   "id": "4201a87b",
   "metadata": {},
   "outputs": [],
   "source": [
    "def test():\n",
    "    N, in_channels, H, W = 8,3,64,64\n",
    "    z_dim = 100\n",
    "    x = torch.randn((N, in_channels, H, W))\n",
    "    disc = Discriminator(in_channels, 8)\n",
    "    initialize_weights(disc)\n",
    "    assert disc(x).shape == (N,1,1,1)\n",
    "    \n",
    "    gen = Generator(z_dim, in_channels, 8)\n",
    "    z = torch.randn((N, z_dim, 1, 1))\n",
    "    initialize_weights(gen)\n",
    "    \n",
    "    assert gen(z).shape == (N, in_channels, H, W)\n",
    "    print(\"Success\")"
   ]
  },
  {
   "cell_type": "code",
   "execution_count": null,
   "id": "15d7e446",
   "metadata": {},
   "outputs": [],
   "source": [
    "test()"
   ]
  },
  {
   "cell_type": "markdown",
   "id": "384ae6d5",
   "metadata": {},
   "source": [
    "### Setup of Training"
   ]
  },
  {
   "cell_type": "code",
   "execution_count": null,
   "id": "6cb8948f",
   "metadata": {},
   "outputs": [],
   "source": [
    "import torch\n",
    "import torch.nn as nn\n",
    "import torch.optim as optim\n",
    "import torchvision\n",
    "import torchvision.datasets as datasets\n",
    "import torchvision.transforms as transforms\n",
    "from torch.utils.data import DataLoader\n",
    "from torch.utils.tensorboard import SummaryWriter\n",
    "# from model import Discriminator, Generator, initialize_weights"
   ]
  },
  {
   "cell_type": "markdown",
   "id": "ce87f634",
   "metadata": {},
   "source": [
    "Setting up the Hyperparameters ,etc.\n"
   ]
  },
  {
   "cell_type": "code",
   "execution_count": null,
   "id": "800cc1bd",
   "metadata": {},
   "outputs": [],
   "source": [
    "device = torch.device(\"mps\" if torch.backends.mps.is_available() else \"cpu\")\n",
    "LEARNING_RATE = 2e-4\n",
    "BATCH_SIZE = 128\n",
    "IMAGE_SIZE = 64\n",
    "CHANNELS_IMG = 3    # make it 1 if you are training on a grayscale image\n",
    "Z_DIM = 100\n",
    "NUM_EPOCHS = 5      # It will take a lot of time coz there are lots of images to process\n",
    "FEATURES_DISC = 64\n",
    "FEATURES_GEN = 64"
   ]
  },
  {
   "cell_type": "code",
   "execution_count": null,
   "id": "dbbf64f4",
   "metadata": {},
   "outputs": [],
   "source": [
    "transforms = transforms.Compose(\n",
    "    [\n",
    "        transforms.Resize(IMAGE_SIZE),\n",
    "        transforms.ToTensor(),\n",
    "        transforms.Normalize(\n",
    "            [0.5 for _ in range(CHANNELS_IMG)], [0.5 for _ in range(CHANNELS_IMG)]\n",
    "        ),\n",
    "    ]\n",
    ")"
   ]
  },
  {
   "cell_type": "code",
   "execution_count": null,
   "id": "45af90f9",
   "metadata": {},
   "outputs": [],
   "source": [
    "# dataset = datasets.MNIST(root=\"dataset/\", train=True, transform=transforms, download=True)\n",
    "dataset = datasets.ImageFolder(root=\"celebA_dataset/\", transform=transforms)\n",
    "\n",
    "dataloader = DataLoader(dataset, batch_size=BATCH_SIZE, shuffle=True)\n",
    "\n",
    "gen = Generator(Z_DIM, CHANNELS_IMG, FEATURES_GEN).to(device)\n",
    "disc = Discriminator(CHANNELS_IMG, FEATURES_DISC).to(device)\n",
    "\n",
    "initialize_weights(gen)\n",
    "initialize_weights(disc)\n",
    "\n",
    "opt_gen = optim.Adam(gen.parameters(), lr=LEARNING_RATE, betas=(0.5,0.999))\n",
    "opt_disc = optim.Adam(disc.parameters(), lr=LEARNING_RATE, betas=(0.5,0.999))\n",
    "criterion = nn.BCELoss()\n",
    "\n",
    "fixed_noise = torch.randn(32, Z_DIM, 1,1).to(device)\n",
    "writer_real = SummaryWriter(f\"logs/real\")\n",
    "writer_fake = SummaryWriter(f\"logs/fake\")\n",
    "\n",
    "step = 0\n",
    "\n",
    "## Send both the networks to training modes\n",
    "print(gen.train())\n",
    "disc.train()"
   ]
  },
  {
   "cell_type": "code",
   "execution_count": null,
   "id": "8cb0cdce",
   "metadata": {},
   "outputs": [],
   "source": [
    "for epoch in range(NUM_EPOCHS):\n",
    "    for batch_idx, (real, _) in enumerate(dataloader):\n",
    "        real = real.to(device)\n",
    "        noise = torch.randn((BATCH_SIZE, Z_DIM, 1,1)).to(device)\n",
    "        fake = gen(noise)\n",
    "\n",
    "        ### Train the discriminator: max log(D(x)) + log(1-D(G(x)))\n",
    "        disc_real = disc(real).reshape(-1)\n",
    "        loss_disc_real = criterion(disc_real, torch.ones_like(disc_real))\n",
    "        disc_fake = disc(fake.detach()).reshape(-1)\n",
    "        loss_disc_fake = criterion(disc_fake, torch.zeros_like(disc_fake))\n",
    "\n",
    "        loss_disc = (loss_disc_real + loss_disc_fake)/2\n",
    "        disc.zero_grad()\n",
    "        loss_disc.backward()\n",
    "        opt_disc.step()\n",
    "\n",
    "        ### Train the Generator: min log(1-D(G(z))) <-> max log(D(G(z)))\n",
    "        output = disc(fake).reshape(-1)\n",
    "        loss_gen = criterion(output, torch.ones_like(output))\n",
    "        gen.zero_grad()\n",
    "        loss_gen.backward()\n",
    "        opt_gen.step()\n",
    "\n",
    "        ###  Print Losses occasionally and print to tensorboard\n",
    "        if batch_idx % 100 == 0:\n",
    "            print(f\"Epoch [{epoch}/{NUM_EPOCHS} Batch {batch_idx}/{len(dataloader)} \\n Loss D: {loss_disc:.4f}, Loss G: {loss_gen:.4f}]\")\n",
    "\n",
    "            with torch.no_grad():\n",
    "                fake = gen(fixed_noise)\n",
    "                # Take out (upto) 32 examples\n",
    "                img_grid_real = torchvision.utils.make_grid(\n",
    "                    real[:32], normalize=True\n",
    "                )\n",
    "                img_grid_fake = torchvision.utils.make_grid(\n",
    "                    fake[:32], normalize=True\n",
    "                )\n",
    "\n",
    "                writer_real.add_image(\"Real\", img_grid_real, global_step=step)\n",
    "\n",
    "                writer_fake.add_image(\"Fake\", img_grid_fake, global_step=step)\n",
    "            \n",
    "            step += 1\n"
   ]
  },
  {
   "cell_type": "code",
   "execution_count": null,
   "id": "c64e36a1",
   "metadata": {},
   "outputs": [],
   "source": [
    "%tensorboard --logdir=logs/ --reload_interval=5"
   ]
  },
  {
   "cell_type": "code",
   "execution_count": null,
   "id": "eaa0321f",
   "metadata": {},
   "outputs": [],
   "source": []
  }
 ],
 "metadata": {
  "kernelspec": {
   "display_name": "gans_in_action_env",
   "language": "python",
   "name": "python3"
  },
  "language_info": {
   "codemirror_mode": {
    "name": "ipython",
    "version": 3
   },
   "file_extension": ".py",
   "mimetype": "text/x-python",
   "name": "python",
   "nbconvert_exporter": "python",
   "pygments_lexer": "ipython3",
   "version": "3.13.5"
  }
 },
 "nbformat": 4,
 "nbformat_minor": 5
}
