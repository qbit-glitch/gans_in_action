{
 "cells": [
  {
   "cell_type": "markdown",
   "id": "3264d6d3",
   "metadata": {},
   "source": [
    "## Pix2Pix Implementation from Scratch\n",
    "\n",
    "Resource Link: https://youtu.be/SuddDSqGRzg\n",
    "\n",
    "Paper Link: https://arxiv.org/abs/1611.07004"
   ]
  },
  {
   "cell_type": "code",
   "execution_count": 1,
   "id": "c6ffd212",
   "metadata": {},
   "outputs": [
    {
     "name": "stdout",
     "output_type": "stream",
     "text": [
      "Pix2Pix Implementation from Scratch using Pytorch\n"
     ]
    }
   ],
   "source": [
    "print(\"Pix2Pix Implementation from Scratch using Pytorch\")"
   ]
  },
  {
   "cell_type": "code",
   "execution_count": 2,
   "id": "fdb1429a",
   "metadata": {},
   "outputs": [],
   "source": [
    "# install the albumentations library in the python environment\n",
    "# %pip install albumentations"
   ]
  },
  {
   "cell_type": "markdown",
   "id": "ae3a04f9",
   "metadata": {},
   "source": [
    "### Defining the discriminator\n"
   ]
  },
  {
   "cell_type": "code",
   "execution_count": 3,
   "id": "f0885073",
   "metadata": {},
   "outputs": [],
   "source": [
    "import torch\n",
    "import torch.nn as nn"
   ]
  },
  {
   "cell_type": "code",
   "execution_count": 4,
   "id": "83a7492e",
   "metadata": {},
   "outputs": [],
   "source": [
    "class CNNBlock(nn.Module):\n",
    "    def __init__(self, in_channels, out_channels, stride=2):\n",
    "        super().__init__()\n",
    "        self.conv = nn.Sequential(\n",
    "            nn.Conv2d(in_channels, out_channels, 4, stride, 1, bias=False, padding_mode=\"reflect\"),\n",
    "            nn.BatchNorm2d(out_channels),\n",
    "            nn.LeakyReLU(0.2),\n",
    "        )\n",
    "\n",
    "    def forward(self, x):\n",
    "        return self.conv(x)\n",
    "\n",
    "    \n"
   ]
  },
  {
   "cell_type": "code",
   "execution_count": 5,
   "id": "81b0c0dc",
   "metadata": {},
   "outputs": [],
   "source": [
    "class Discriminator(nn.Module):\n",
    "    def __init__(self, in_channels=3, features=[64,128,256,512]):   # 256 -> 30x30\n",
    "        super().__init__()\n",
    "        self.initial = nn.Sequential(\n",
    "            nn.Conv2d(in_channels*2, features[0], kernel_size=4, stride=2, padding=1, padding_mode=\"reflect\"),\n",
    "            nn.LeakyReLU(0.2),\n",
    "        )\n",
    "\n",
    "        layers = []\n",
    "        in_channels = features[0]\n",
    "        for feature in features[1:]:\n",
    "            layers.append(\n",
    "                CNNBlock(in_channels, feature, stride=1 if feature == features[-1] else 2)\n",
    "            )\n",
    "            in_channels = feature\n",
    "\n",
    "        layers.append(\n",
    "            nn.Conv2d(\n",
    "                in_channels, 1, kernel_size=4, stride=1, padding=1, padding_mode=\"reflect\"\n",
    "            )\n",
    "        )\n",
    "\n",
    "        self.model = nn.Sequential(*layers)     # unpack all layers and put it into nn.Sequential\n",
    "\n",
    "    \n",
    "    def forward(self, x, y):\n",
    "        x = torch.cat([x,y], dim=1)\n",
    "        x = self.initial(x)\n",
    "        return self.model(x)\n",
    "\n"
   ]
  },
  {
   "cell_type": "code",
   "execution_count": 6,
   "id": "0228b643",
   "metadata": {},
   "outputs": [
    {
     "name": "stdout",
     "output_type": "stream",
     "text": [
      "torch.Size([1, 1, 30, 30])\n"
     ]
    }
   ],
   "source": [
    "# Test Case: test the Discriminator \n",
    "def test():\n",
    "    x = torch.randn((1,3,256,256))\n",
    "    y = torch.randn((1,3,256,256))\n",
    "    model = Discriminator()\n",
    "    preds = model(x,y)\n",
    "    print(preds.shape)\n",
    "\n",
    "test()"
   ]
  },
  {
   "cell_type": "markdown",
   "id": "573b1a79",
   "metadata": {},
   "source": [
    "### Defining the generator"
   ]
  },
  {
   "cell_type": "code",
   "execution_count": 7,
   "id": "b5fffa9d",
   "metadata": {},
   "outputs": [],
   "source": [
    "import torch\n",
    "import torch.nn as nn"
   ]
  },
  {
   "cell_type": "code",
   "execution_count": 8,
   "id": "b6089516",
   "metadata": {},
   "outputs": [],
   "source": [
    "class Block(nn.Module):\n",
    "    def __init__(self, in_channels, out_channels, down=True, act=\"relu\", use_dropout=False):\n",
    "        super().__init__()\n",
    "        self.conv = nn.Sequential(\n",
    "            nn.Conv2d(in_channels, out_channels, 4,2,1, bias=False, padding_mode=\"reflect\") \n",
    "            if down\n",
    "            else nn.ConvTranspose2d(in_channels, out_channels, 4,2,1, bias=False),\n",
    "\n",
    "            nn.BatchNorm2d(out_channels),\n",
    "            nn.ReLU() if act==\"relu\" else nn.LeakyReLU(0.2),\n",
    "        )\n",
    "        self.use_dropout = use_dropout\n",
    "        self.dropout = nn.Dropout(0.5)\n",
    "\n",
    "    def forward(self, x):\n",
    "        x = self.conv(x)\n",
    "        return self.dropout(x) if self.use_dropout else x\n"
   ]
  },
  {
   "cell_type": "code",
   "execution_count": 9,
   "id": "31c6904c",
   "metadata": {},
   "outputs": [],
   "source": [
    "class Generator(nn.Module):\n",
    "    def __init__(self, in_channels=3, features=64):\n",
    "        super().__init__()\n",
    "        self.initial_down = nn.Sequential(\n",
    "            nn.Conv2d(in_channels, features, 4,2,1, padding_mode=\"reflect\"),\n",
    "            nn.LeakyReLU(0.2),\n",
    "        )       # 128\n",
    "\n",
    "        self.down1 = Block(features, features*2, down=True, act=\"leaky\", use_dropout=False)        # 64\n",
    "        self.down2 = Block(features*2, features*4, down=True, act=\"leaky\", use_dropout=False)        # 32      \n",
    "        self.down3 = Block(features*4, features*8, down=True, act=\"leaky\", use_dropout=False)        # 16\n",
    "        self.down4 = Block(features*8, features*8, down=True, act=\"leaky\", use_dropout=False)        # 8\n",
    "        self.down5 = Block(features*8, features*8, down=True, act=\"leaky\", use_dropout=False)        # 4\n",
    "        self.down6 = Block(features*8, features*8, down=True, act=\"leaky\", use_dropout=False)        # 2\n",
    "\n",
    "        self.bottleneck = nn.Sequential(\n",
    "            nn.Conv2d(features*8, features*8, 4,2,1, padding_mode=\"reflect\"),\n",
    "            nn.ReLU(),\n",
    "        )       # 1x1\n",
    "\n",
    "        self.up1 = Block(features*8, features*8, down=False, act=\"relu\", use_dropout=True)\n",
    "        self.up2 = Block(features*8*2, features*8, down=False, act=\"relu\", use_dropout=True)\n",
    "        self.up3 = Block(features*8*2, features*8, down=False, act=\"relu\", use_dropout=True)\n",
    "        self.up4 = Block(features*8*2, features*8, down=False, act=\"relu\", use_dropout=False)\n",
    "        self.up5 = Block(features*8*2, features*4, down=False, act=\"relu\", use_dropout=False)\n",
    "        self.up6 = Block(features*4*2, features*2, down=False, act=\"relu\", use_dropout=False)\n",
    "        self.up7 = Block(features*2*2, features, down=False, act=\"relu\", use_dropout=False)\n",
    "        \n",
    "        self.final_up = nn.Sequential(\n",
    "            nn.ConvTranspose2d(features*2, in_channels, 4,2,1),\n",
    "            nn.Tanh(),\n",
    "        )\n",
    "\n",
    "\n",
    "    def forward(self, x):\n",
    "        d1 = self.initial_down(x)\n",
    "        d2 = self.down1(d1)\n",
    "        d3 = self.down2(d2)\n",
    "        d4 = self.down3(d3)\n",
    "        d5 = self.down4(d4)\n",
    "        d6 = self.down5(d5)\n",
    "        d7 = self.down6(d6)\n",
    "        bottleneck = self.bottleneck(d7)\n",
    "        up1 = self.up1(bottleneck)\n",
    "        up2 = self.up2(torch.cat([up1,d7], 1))\n",
    "        up3 = self.up3(torch.cat([up2,d6], 1))\n",
    "        up4 = self.up4(torch.cat([up3,d5], 1))\n",
    "        up5 = self.up5(torch.cat([up4,d4], 1))\n",
    "        up6 = self.up6(torch.cat([up5,d3], 1))\n",
    "        up7 = self.up7(torch.cat([up6,d2], 1))\n",
    "        return self.final_up(torch.cat([up7, d1],1))\n",
    "\n"
   ]
  },
  {
   "cell_type": "code",
   "execution_count": 10,
   "id": "97a17013",
   "metadata": {},
   "outputs": [
    {
     "name": "stdout",
     "output_type": "stream",
     "text": [
      "torch.Size([1, 3, 256, 256])\n"
     ]
    }
   ],
   "source": [
    "def test_generator():\n",
    "    x = torch.randn((1,3,256,256))\n",
    "    model = Generator(in_channels=3, features=64)\n",
    "    preds = model(x)\n",
    "    print(preds.shape)\n",
    "\n",
    "test_generator()"
   ]
  },
  {
   "cell_type": "markdown",
   "id": "a49ac972",
   "metadata": {},
   "source": [
    "### Config Parameters"
   ]
  },
  {
   "cell_type": "code",
   "execution_count": 11,
   "id": "3a8d4013",
   "metadata": {},
   "outputs": [],
   "source": [
    "import torch\n",
    "import albumentations as A\n",
    "from albumentations.pytorch import ToTensorV2"
   ]
  },
  {
   "cell_type": "code",
   "execution_count": 12,
   "id": "52af7daf",
   "metadata": {},
   "outputs": [],
   "source": [
    "DEVICE = \"mps:0\" if torch.backends.mps.is_available() else \"cpu\"\n",
    "LEARNING_RATE = 2e-4\n",
    "BATCH_SIZE = 16\n",
    "NUM_WORKERS = 0\n",
    "IMAGE_SIZE = 256\n",
    "CHANNELS_IMG = 3\n",
    "L1_LAMBDA = 100\n",
    "NUM_EPOCHS = 200\n",
    "LOAD_MODEL = False\n",
    "SAVE_MODEL = True\n",
    "CHECKPOINT_DISC = \"disc.pth.tar\"\n",
    "CHECKPOINT_GEN = \"gen.pth.tar\""
   ]
  },
  {
   "cell_type": "code",
   "execution_count": 13,
   "id": "a5733397",
   "metadata": {},
   "outputs": [],
   "source": [
    "both_transform = A.Compose(\n",
    "    [A.Resize(width=256, height=256),], \n",
    "    additional_targets = {\"image0\": \"image\"},\n",
    ")\n",
    "\n",
    "transform_only_input = A.Compose(\n",
    "    [\n",
    "        # A.ColorJitter(p=0.2)\n",
    "        A.Normalize(mean=[0.5,0.5,0.5], std=[0.5,0.5,0.5], max_pixel_value=255.0),\n",
    "        ToTensorV2(),\n",
    "    ]\n",
    ")\n",
    "\n",
    "transform_only_mask = A.Compose(\n",
    "    [\n",
    "        A.Normalize(mean=[0.5,0.5,0.5], std=[0.5,0.5,0.5], max_pixel_value=255.0),\n",
    "        ToTensorV2(),\n",
    "    ]\n",
    ")"
   ]
  },
  {
   "cell_type": "markdown",
   "id": "c3256d40",
   "metadata": {},
   "source": [
    "### Load the Dataset"
   ]
  },
  {
   "cell_type": "code",
   "execution_count": 14,
   "id": "0a048988",
   "metadata": {},
   "outputs": [],
   "source": [
    "# %pip install kagglehub"
   ]
  },
  {
   "cell_type": "code",
   "execution_count": 15,
   "id": "04df1cfe",
   "metadata": {},
   "outputs": [],
   "source": [
    "from PIL import Image\n",
    "import numpy as np\n",
    "import os\n",
    "from torch.utils.data import Dataset"
   ]
  },
  {
   "cell_type": "code",
   "execution_count": 16,
   "id": "1ec5bee6",
   "metadata": {},
   "outputs": [],
   "source": [
    "class MapDataset(Dataset):\n",
    "    def __init__(self, root_dir):\n",
    "        self.root_dir = root_dir\n",
    "        self.list_files = os.listdir(self.root_dir)\n",
    "        print(self.list_files)\n",
    "\n",
    "    def __len__(self):\n",
    "        return len(self.list_files)\n",
    "\n",
    "    def __getitem__(self, index):\n",
    "        img_file = self.list_files[index]\n",
    "        img_path = os.path.join(self.root_dir, img_file)\n",
    "        image = np.array(Image.open(img_path))\n",
    "        input_image = image[:, :600, :]\n",
    "        target_image = image[:, 600:, :]\n",
    "\n",
    "        augmentations = both_transform(image=input_image, image0=target_image)\n",
    "        input_image, target_image = augmentations[\"image\"], augmentations[\"image0\"]\n",
    "\n",
    "        input_image = transform_only_input(image=input_image)[\"image\"]\n",
    "        target_image = transform_only_input(image=target_image)[\"image\"]\n",
    "\n",
    "        return input_image, target_image\n"
   ]
  },
  {
   "cell_type": "markdown",
   "id": "9eb4c0b0",
   "metadata": {},
   "source": [
    "### Some utility functions to view intermediate results"
   ]
  },
  {
   "cell_type": "code",
   "execution_count": 17,
   "id": "2d49ca46",
   "metadata": {},
   "outputs": [],
   "source": [
    "import torch\n",
    "from torchvision.utils import save_image"
   ]
  },
  {
   "cell_type": "code",
   "execution_count": 25,
   "id": "eb2492e2",
   "metadata": {},
   "outputs": [],
   "source": [
    "def save_some_examples(gen, val_loader, epoch, folder):\n",
    "    x,y = next(iter(val_loader))\n",
    "    x,y = x.to(DEVICE), y.to(DEVICE)\n",
    "    gen.eval()\n",
    "    with torch.no_grad():\n",
    "        y_fake = gen(x)\n",
    "        y_fake = y_fake * 0.5 + 0.5     # remove normalization\n",
    "        save_image(y_fake, folder + f\"/y_gen_{epoch}.png\")\n",
    "        save_image(x * 0.5 * 0.5, folder + f\"/input_{epoch}.png\")\n",
    "        if epoch == 1:\n",
    "            save_image(y * 0.5 * 0.5, folder + f\"/label_{epoch}.png\")\n",
    "    gen.train()\n",
    "    "
   ]
  },
  {
   "cell_type": "code",
   "execution_count": 26,
   "id": "c5430f83",
   "metadata": {},
   "outputs": [],
   "source": [
    "def save_checkpoint(model, optimizer, filename=\"my_checkpoint.pth.tar\"):\n",
    "    print(\"=> Saving checkpoint\")\n",
    "    checkpoint = {\n",
    "        \"state_dict\": model.state_dict(),\n",
    "        \"optimizer\": optimizer.state_dict(),\n",
    "    }\n",
    "    torch.save(checkpoint, filename)\n",
    "    \n"
   ]
  },
  {
   "cell_type": "code",
   "execution_count": 27,
   "id": "08649763",
   "metadata": {},
   "outputs": [],
   "source": [
    "def load_checkpoint(checkpoint_file, model, optimizer, lr):\n",
    "    print(\"=> Loading Checkpoint\")\n",
    "    checkpoint = torch.load(checkpoint_file, map_location=DEVICE)\n",
    "    model.load_state_dict(checkpoint[\"state_dict\"])\n",
    "    optimizer.load_state_dict(checkpoint[\"optimizer\"])\n",
    "\n",
    "    # If we don't do this then it will just have learning rate of old checkpoint and it will lead to many hours of debugging.\n",
    "    for param_group in optimizer.param_groups:\n",
    "        param_group[\"lr\"] = lr"
   ]
  },
  {
   "cell_type": "markdown",
   "id": "a30d3dfa",
   "metadata": {},
   "source": [
    "### Training the model"
   ]
  },
  {
   "cell_type": "code",
   "execution_count": 28,
   "id": "e167a944",
   "metadata": {},
   "outputs": [],
   "source": [
    "import torch\n",
    "import torch.nn as nn\n",
    "import torch.optim as optim\n",
    "from torch.utils.data import DataLoader\n",
    "from tqdm import tqdm\n"
   ]
  },
  {
   "cell_type": "code",
   "execution_count": 29,
   "id": "0ceb9ce6",
   "metadata": {},
   "outputs": [],
   "source": [
    "def train_fn(disc, gen, loader, opt_disc, opt_gen, l1, bce, g_scalar, d_scalar):\n",
    "    loop = tqdm(loader, leave=True)\n",
    "\n",
    "    for idx, (x,y) in enumerate(loop):\n",
    "        x,y = x.to(DEVICE), y.to(DEVICE)\n",
    "\n",
    "        # Train Discriminator\n",
    "        with torch.amp.autocast(device_type=\"mps\", dtype=torch.bfloat16):\n",
    "            y_fake = gen(x)\n",
    "            D_real = disc(x,y)\n",
    "            D_fake = disc(x, y_fake.detach())\n",
    "            D_real_loss = bce(D_real, torch.ones_like(D_real))\n",
    "            D_fake_loss = bce(D_fake, torch.zeros_like(D_fake))\n",
    "            D_loss = (D_real_loss + D_fake_loss)/2\n",
    "\n",
    "        disc.zero_grad()\n",
    "        d_scalar.scale(D_loss).backward()\n",
    "        d_scalar.step(opt_disc)\n",
    "        d_scalar.update()\n",
    "\n",
    "        # Train the Generator\n",
    "        with torch.amp.autocast(device_type=\"mps\", dtype=torch.bfloat16):\n",
    "            D_fake = disc(x, y_fake)\n",
    "            G_fake_loss = bce(D_fake, torch.ones_like(D_fake))\n",
    "            L1 = l1(y_fake, y) * L1_LAMBDA\n",
    "            G_loss = G_fake_loss + L1\n",
    "\n",
    "        opt_gen.zero_grad()\n",
    "        g_scalar.scale(G_loss).backward()\n",
    "        g_scalar.step(opt_gen)\n",
    "        g_scalar.update()\n",
    "    "
   ]
  },
  {
   "cell_type": "code",
   "execution_count": 30,
   "id": "c3b1639f",
   "metadata": {},
   "outputs": [],
   "source": [
    "def main():\n",
    "    disc = Discriminator(in_channels=3).to(DEVICE)\n",
    "    gen = Generator(in_channels=3).to(DEVICE)\n",
    "    opt_disc = optim.Adam(disc.parameters(), lr=LEARNING_RATE, betas=(0.5,0.999))\n",
    "    opt_gen = optim.Adam(gen.parameters(), lr=LEARNING_RATE, betas=(0.5,0.999))\n",
    "    BCE = nn.BCEWithLogitsLoss()\n",
    "    L1_LOSS = nn.L1Loss()\n",
    "\n",
    "    if LOAD_MODEL:\n",
    "        load_checkpoint(CHECKPOINT_GEN, gen, opt_gen, LEARNING_RATE)\n",
    "        load_checkpoint(CHECKPOINT_DISC, disc, opt_disc, LEARNING_RATE)\n",
    "\n",
    "    train_dataset = MapDataset(root_dir=\"pix2pix_dataset/maps/maps/train\")\n",
    "    train_loader = DataLoader(train_dataset, batch_size=BATCH_SIZE, shuffle=True, num_workers=NUM_WORKERS)\n",
    "    g_scalar = torch.amp.GradScaler(\"mps\")\n",
    "    d_scalar = torch.amp.GradScaler(\"mps\")\n",
    "\n",
    "    val_dataset = MapDataset(root_dir=\"pix2pix_dataset/maps/maps/val\")\n",
    "    val_loader = DataLoader(val_dataset, batch_size=1, shuffle=False)\n",
    "\n",
    "    for epoch in range(NUM_EPOCHS):\n",
    "        train_fn(disc, gen, train_loader, opt_disc, opt_gen, L1_LOSS, BCE, g_scalar, d_scalar)\n",
    "\n",
    "        if SAVE_MODEL and epoch % 5 == 0:\n",
    "            save_checkpoint(gen, opt_gen, filename=CHECKPOINT_GEN)\n",
    "            save_checkpoint(disc, opt_disc, filename=CHECKPOINT_DISC)\n",
    "\n",
    "        save_some_examples(gen, val_loader, epoch, folder=\"evaluation\")\n",
    "\n"
   ]
  },
  {
   "cell_type": "code",
   "execution_count": 31,
   "id": "eaeb87dc",
   "metadata": {},
   "outputs": [
    {
     "name": "stdout",
     "output_type": "stream",
     "text": [
      "['63.jpg', '823.jpg', '189.jpg', '77.jpg', '837.jpg', '638.jpg', '604.jpg', '162.jpg', '176.jpg', '88.jpg', '610.jpg', '348.jpg', '360.jpg', '406.jpg', '412.jpg', '374.jpg', '1019.jpg', '599.jpg', '1025.jpg', '1031.jpg', '228.jpg', '214.jpg', '572.jpg', '566.jpg', '200.jpg', '957.jpg', '943.jpg', '994.jpg', '758.jpg', '980.jpg', '770.jpg', '764.jpg', '765.jpg', '771.jpg', '981.jpg', '759.jpg', '995.jpg', '942.jpg', '956.jpg', '567.jpg', '201.jpg', '215.jpg', '573.jpg', '229.jpg', '1030.jpg', '1024.jpg', '598.jpg', '1018.jpg', '413.jpg', '375.jpg', '361.jpg', '407.jpg', '349.jpg', '177.jpg', '611.jpg', '89.jpg', '605.jpg', '163.jpg', '639.jpg', '188.jpg', '836.jpg', '76.jpg', '822.jpg', '62.jpg', '74.jpg', '834.jpg', '60.jpg', '820.jpg', '48.jpg', '808.jpg', '149.jpg', '613.jpg', '175.jpg', '161.jpg', '607.jpg', '388.jpg', '439.jpg', '377.jpg', '411.jpg', '405.jpg', '363.jpg', '1032.jpg', '1026.jpg', '559.jpg', '203.jpg', '565.jpg', '571.jpg', '217.jpg', '940.jpg', '798.jpg', '954.jpg', '968.jpg', '983.jpg', '997.jpg', '767.jpg', '773.jpg', '772.jpg', '766.jpg', '996.jpg', '982.jpg', '969.jpg', '955.jpg', '799.jpg', '941.jpg', '570.jpg', '216.jpg', '202.jpg', '564.jpg', '558.jpg', '1027.jpg', '1033.jpg', '404.jpg', '362.jpg', '376.jpg', '410.jpg', '438.jpg', '389.jpg', '160.jpg', '606.jpg', '612.jpg', '174.jpg', '148.jpg', '809.jpg', '49.jpg', '821.jpg', '61.jpg', '835.jpg', '75.jpg', '59.jpg', '819.jpg', '71.jpg', '831.jpg', '65.jpg', '825.jpg', '170.jpg', '616.jpg', '602.jpg', '164.jpg', '158.jpg', '399.jpg', '414.jpg', '372.jpg', '366.jpg', '400.jpg', '428.jpg', '1037.jpg', '1023.jpg', '560.jpg', '206.jpg', '212.jpg', '574.jpg', '548.jpg', '979.jpg', '945.jpg', '951.jpg', '789.jpg', '762.jpg', '776.jpg', '986.jpg', '992.jpg', '993.jpg', '987.jpg', '777.jpg', '763.jpg', '788.jpg', '950.jpg', '944.jpg', '978.jpg', '549.jpg', '213.jpg', '575.jpg', '561.jpg', '207.jpg', '1022.jpg', '1036.jpg', '429.jpg', '367.jpg', '401.jpg', '415.jpg', '373.jpg', '398.jpg', '159.jpg', '603.jpg', '165.jpg', '171.jpg', '617.jpg', '824.jpg', '64.jpg', '830.jpg', '70.jpg', '818.jpg', '58.jpg', '8.jpg', '198.jpg', '66.jpg', '826.jpg', '72.jpg', '832.jpg', '167.jpg', '601.jpg', '99.jpg', '615.jpg', '173.jpg', '629.jpg', '403.jpg', '365.jpg', '371.jpg', '417.jpg', '359.jpg', '1020.jpg', '1034.jpg', '588.jpg', '1008.jpg', '577.jpg', '211.jpg', '205.jpg', '563.jpg', '239.jpg', '952.jpg', '946.jpg', '775.jpg', '761.jpg', '749.jpg', '991.jpg', '985.jpg', '984.jpg', '990.jpg', '748.jpg', '760.jpg', '774.jpg', '947.jpg', '953.jpg', '238.jpg', '204.jpg', '562.jpg', '576.jpg', '210.jpg', '1009.jpg', '589.jpg', '1035.jpg', '1021.jpg', '358.jpg', '370.jpg', '416.jpg', '402.jpg', '364.jpg', '628.jpg', '614.jpg', '172.jpg', '166.jpg', '98.jpg', '600.jpg', '833.jpg', '73.jpg', '199.jpg', '827.jpg', '67.jpg', '9.jpg', '698.jpg', '840.jpg', '14.jpg', '854.jpg', '28.jpg', '868.jpg', '883.jpg', '897.jpg', '129.jpg', '101.jpg', '667.jpg', '673.jpg', '115.jpg', '459.jpg', '465.jpg', '303.jpg', '317.jpg', '471.jpg', '288.jpg', '1046.jpg', '1052.jpg', '539.jpg', '511.jpg', '1085.jpg', '277.jpg', '263.jpg', '1091.jpg', '505.jpg', '934.jpg', '920.jpg', '908.jpg', '713.jpg', '707.jpg', '706.jpg', '712.jpg', '909.jpg', '921.jpg', '935.jpg', '262.jpg', '504.jpg', '1090.jpg', '1084.jpg', '510.jpg', '276.jpg', '538.jpg', '1053.jpg', '1047.jpg', '289.jpg', '316.jpg', '470.jpg', '464.jpg', '302.jpg', '458.jpg', '672.jpg', '114.jpg', '100.jpg', '666.jpg', '896.jpg', '128.jpg', '882.jpg', '869.jpg', '29.jpg', '855.jpg', '15.jpg', '841.jpg', '699.jpg', '17.jpg', '857.jpg', '843.jpg', '894.jpg', '880.jpg', '658.jpg', '116.jpg', '670.jpg', '664.jpg', '102.jpg', '499.jpg', '328.jpg', '472.jpg', '314.jpg', '300.jpg', '466.jpg', '1079.jpg', '1051.jpg', '1045.jpg', '248.jpg', '1092.jpg', '506.jpg', '260.jpg', '274.jpg', '512.jpg', '1086.jpg', '923.jpg', '937.jpg', '738.jpg', '704.jpg', '710.jpg', '711.jpg', '705.jpg', '739.jpg', '936.jpg', '922.jpg', '275.jpg', '1087.jpg', '513.jpg', '507.jpg', '1093.jpg', '261.jpg', '249.jpg', '1044.jpg', '1050.jpg', '1078.jpg', '301.jpg', '467.jpg', '473.jpg', '315.jpg', '329.jpg', '498.jpg', '665.jpg', '103.jpg', '117.jpg', '671.jpg', '659.jpg', '881.jpg', '895.jpg', '842.jpg', '856.jpg', '16.jpg', '12.jpg', '852.jpg', '846.jpg', '675.jpg', '113.jpg', '107.jpg', '661.jpg', '891.jpg', '649.jpg', '885.jpg', '488.jpg', '311.jpg', '477.jpg', '463.jpg', '305.jpg', '339.jpg', '1054.jpg', '1040.jpg', '1068.jpg', '265.jpg', '503.jpg', '517.jpg', '1083.jpg', '271.jpg', '259.jpg', '926.jpg', '932.jpg', '701.jpg', '715.jpg', '729.jpg', '728.jpg', '714.jpg', '700.jpg', '933.jpg', '927.jpg', '258.jpg', '1082.jpg', '516.jpg', '270.jpg', '264.jpg', '502.jpg', '1096.jpg', '1069.jpg', '1041.jpg', '1055.jpg', '338.jpg', '462.jpg', '304.jpg', '310.jpg', '476.jpg', '489.jpg', '884.jpg', '648.jpg', '890.jpg', '106.jpg', '660.jpg', '674.jpg', '112.jpg', '847.jpg', '853.jpg', '13.jpg', '39.jpg', '879.jpg', '845.jpg', '689.jpg', '11.jpg', '851.jpg', '662.jpg', '104.jpg', '110.jpg', '676.jpg', '886.jpg', '138.jpg', '892.jpg', '306.jpg', '460.jpg', '474.jpg', '312.jpg', '448.jpg', '1043.jpg', '1057.jpg', '299.jpg', '272.jpg', '514.jpg', '1080.jpg', '1094.jpg', '500.jpg', '266.jpg', '528.jpg', '919.jpg', '931.jpg', '925.jpg', '716.jpg', '702.jpg', '703.jpg', '717.jpg', '924.jpg', '930.jpg', '918.jpg', '529.jpg', '501.jpg', '1095.jpg', '267.jpg', '273.jpg', '1081.jpg', '515.jpg', '298.jpg', '1056.jpg', '1042.jpg', '449.jpg', '475.jpg', '313.jpg', '307.jpg', '461.jpg', '893.jpg', '887.jpg', '139.jpg', '111.jpg', '677.jpg', '663.jpg', '105.jpg', '850.jpg', '10.jpg', '688.jpg', '844.jpg', '878.jpg', '38.jpg', '21.jpg', '861.jpg', '35.jpg', '875.jpg', '685.jpg', '691.jpg', '849.jpg', '108.jpg', '120.jpg', '646.jpg', '652.jpg', '134.jpg', '487.jpg', '493.jpg', '478.jpg', '444.jpg', '322.jpg', '336.jpg', '450.jpg', '1067.jpg', '295.jpg', '281.jpg', '1073.jpg', '518.jpg', '530.jpg', '256.jpg', '242.jpg', '524.jpg', '915.jpg', '901.jpg', '929.jpg', '732.jpg', '726.jpg', '727.jpg', '733.jpg', '928.jpg', '900.jpg', '914.jpg', '243.jpg', '525.jpg', '531.jpg', '257.jpg', '519.jpg', '280.jpg', '1072.jpg', '1066.jpg', '294.jpg', '337.jpg', '451.jpg', '445.jpg', '323.jpg', '479.jpg', '492.jpg', '486.jpg', '653.jpg', '135.jpg', '121.jpg', '647.jpg', '109.jpg', '848.jpg', '690.jpg', '684.jpg', '874.jpg', '34.jpg', '860.jpg', '20.jpg', '36.jpg', '876.jpg', '22.jpg', '862.jpg', '692.jpg', '686.jpg', '679.jpg', '137.jpg', '889.jpg', '651.jpg', '645.jpg', '123.jpg', '490.jpg', '484.jpg', '309.jpg', '453.jpg', '335.jpg', '321.jpg', '447.jpg', '1058.jpg', '1070.jpg', '282.jpg', '296.jpg', '1064.jpg', '269.jpg', '527.jpg', '241.jpg', '255.jpg', '533.jpg', '902.jpg', '916.jpg', '719.jpg', '725.jpg', '731.jpg', '730.jpg', '724.jpg', '718.jpg', '917.jpg', '903.jpg', '254.jpg', '532.jpg', '526.jpg', '240.jpg', '268.jpg', '297.jpg', '1065.jpg', '1071.jpg', '283.jpg', '1059.jpg', '320.jpg', '446.jpg', '452.jpg', '334.jpg', '308.jpg', '485.jpg', '491.jpg', '644.jpg', '122.jpg', '136.jpg', '650.jpg', '888.jpg', '678.jpg', '687.jpg', '693.jpg', '863.jpg', '23.jpg', '877.jpg', '37.jpg', '697.jpg', '683.jpg', '33.jpg', '873.jpg', '27.jpg', '867.jpg', '654.jpg', '132.jpg', '126.jpg', '898.jpg', '640.jpg', '668.jpg', '495.jpg', '481.jpg', '330.jpg', '456.jpg', '442.jpg', '324.jpg', '318.jpg', '287.jpg', '1075.jpg', '1061.jpg', '293.jpg', '1049.jpg', '244.jpg', '522.jpg', '536.jpg', '250.jpg', '278.jpg', '907.jpg', '913.jpg', '720.jpg', '734.jpg', '708.jpg', '709.jpg', '735.jpg', '721.jpg', '912.jpg', '906.jpg', '279.jpg', '537.jpg', '251.jpg', '245.jpg', '523.jpg', '1048.jpg', '1060.jpg', '292.jpg', '286.jpg', '1074.jpg', '319.jpg', '443.jpg', '325.jpg', '331.jpg', '457.jpg', '480.jpg', '494.jpg', '669.jpg', '127.jpg', '641.jpg', '899.jpg', '655.jpg', '133.jpg', '866.jpg', '26.jpg', '872.jpg', '32.jpg', '682.jpg', '696.jpg', '680.jpg', '18.jpg', '858.jpg', '694.jpg', '24.jpg', '864.jpg', '30.jpg', '870.jpg', '643.jpg', '125.jpg', '131.jpg', '657.jpg', '119.jpg', '482.jpg', '496.jpg', '327.jpg', '441.jpg', '455.jpg', '333.jpg', '469.jpg', '290.jpg', '1062.jpg', '1076.jpg', '284.jpg', '253.jpg', '535.jpg', '521.jpg', '247.jpg', '509.jpg', '1089.jpg', '938.jpg', '910.jpg', '904.jpg', '737.jpg', '723.jpg', '722.jpg', '736.jpg', '905.jpg', '911.jpg', '939.jpg', '1088.jpg', '508.jpg', '520.jpg', '246.jpg', '252.jpg', '534.jpg', '1077.jpg', '285.jpg', '291.jpg', '1063.jpg', '468.jpg', '454.jpg', '332.jpg', '326.jpg', '440.jpg', '497.jpg', '483.jpg', '118.jpg', '130.jpg', '656.jpg', '642.jpg', '124.jpg', '871.jpg', '31.jpg', '865.jpg', '25.jpg', '695.jpg', '859.jpg', '19.jpg', '681.jpg', '42.jpg', '802.jpg', '4.jpg', '56.jpg', '816.jpg', '180.jpg', '194.jpg', '81.jpg', '619.jpg', '95.jpg', '625.jpg', '143.jpg', '157.jpg', '631.jpg', '382.jpg', '396.jpg', '369.jpg', '341.jpg', '427.jpg', '433.jpg', '355.jpg', '1038.jpg', '1004.jpg', '590.jpg', '584.jpg', '1010.jpg', '209.jpg', '235.jpg', '553.jpg', '547.jpg', '221.jpg', '976.jpg', '962.jpg', '792.jpg', '786.jpg', '779.jpg', '751.jpg', '989.jpg', '745.jpg', '744.jpg', '988.jpg', '750.jpg', '778.jpg', '787.jpg', '793.jpg', '963.jpg', '977.jpg', '546.jpg', '220.jpg', '234.jpg', '552.jpg', '208.jpg', '1011.jpg', '585.jpg', '591.jpg', '1005.jpg', '1039.jpg', '432.jpg', '354.jpg', '340.jpg', '426.jpg', '368.jpg', '397.jpg', '383.jpg', '156.jpg', '630.jpg', '624.jpg', '142.jpg', '94.jpg', '618.jpg', '80.jpg', '195.jpg', '181.jpg', '5.jpg', '817.jpg', '57.jpg', '803.jpg', '43.jpg', '55.jpg', '815.jpg', '7.jpg', '41.jpg', '801.jpg', '69.jpg', '829.jpg', '197.jpg', '183.jpg', '96.jpg', '168.jpg', '82.jpg', '632.jpg', '154.jpg', '140.jpg', '626.jpg', '395.jpg', '381.jpg', '418.jpg', '356.jpg', '430.jpg', '424.jpg', '342.jpg', '587.jpg', '1013.jpg', '1007.jpg', '593.jpg', '578.jpg', '222.jpg', '544.jpg', '550.jpg', '236.jpg', '961.jpg', '975.jpg', '785.jpg', '949.jpg', '791.jpg', '746.jpg', '752.jpg', '753.jpg', '747.jpg', '790.jpg', '948.jpg', '784.jpg', '974.jpg', '960.jpg', '551.jpg', '237.jpg', '223.jpg', '545.jpg', '579.jpg', '592.jpg', '1006.jpg', '1012.jpg', '586.jpg', '425.jpg', '343.jpg', '357.jpg', '431.jpg', '419.jpg', '380.jpg', '394.jpg', '141.jpg', '627.jpg', '633.jpg', '155.jpg', '83.jpg', '97.jpg', '169.jpg', '182.jpg', '828.jpg', '68.jpg', '196.jpg', '800.jpg', '40.jpg', '814.jpg', '54.jpg', '6.jpg', '192.jpg', '78.jpg', '838.jpg', '186.jpg', '2.jpg', '50.jpg', '810.jpg', '44.jpg', '804.jpg', '151.jpg', '637.jpg', '623.jpg', '145.jpg', '93.jpg', '87.jpg', '179.jpg', '390.jpg', '384.jpg', '435.jpg', '353.jpg', '347.jpg', '421.jpg', '409.jpg', '582.jpg', '1016.jpg', '1002.jpg', '596.jpg', '541.jpg', '227.jpg', '233.jpg', '555.jpg', '569.jpg', '958.jpg', '780.jpg', '794.jpg', '964.jpg', '970.jpg', '743.jpg', '757.jpg', '756.jpg', '742.jpg', '971.jpg', '965.jpg', '795.jpg', '781.jpg', '959.jpg', '568.jpg', '232.jpg', '554.jpg', '540.jpg', '226.jpg', '597.jpg', '1003.jpg', '1017.jpg', '583.jpg', '408.jpg', '346.jpg', '420.jpg', '434.jpg', '352.jpg', '385.jpg', '391.jpg', '86.jpg', '178.jpg', '92.jpg', '622.jpg', '144.jpg', '150.jpg', '636.jpg', '805.jpg', '45.jpg', '3.jpg', '811.jpg', '51.jpg', '839.jpg', '79.jpg', '187.jpg', '193.jpg', '185.jpg', '191.jpg', '47.jpg', '807.jpg', '53.jpg', '813.jpg', '1.jpg', '146.jpg', '620.jpg', '634.jpg', '152.jpg', '84.jpg', '608.jpg', '90.jpg', '387.jpg', '393.jpg', '422.jpg', '344.jpg', '350.jpg', '436.jpg', '378.jpg', '1001.jpg', '595.jpg', '581.jpg', '1015.jpg', '1029.jpg', '556.jpg', '230.jpg', '224.jpg', '542.jpg', '218.jpg', '797.jpg', '783.jpg', '973.jpg', '967.jpg', '754.jpg', '740.jpg', '998.jpg', '768.jpg', '769.jpg', '999.jpg', '741.jpg', '755.jpg', '966.jpg', '972.jpg', '782.jpg', '796.jpg', '219.jpg', '225.jpg', '543.jpg', '557.jpg', '231.jpg', '1028.jpg', '1014.jpg', '580.jpg', '594.jpg', '1000.jpg', '379.jpg', '351.jpg', '437.jpg', '423.jpg', '345.jpg', '392.jpg', '386.jpg', '91.jpg', '609.jpg', '85.jpg', '635.jpg', '153.jpg', '147.jpg', '621.jpg', '812.jpg', '52.jpg', '806.jpg', '46.jpg', '190.jpg', '184.jpg']\n",
      "['63.jpg', '823.jpg', '189.jpg', '77.jpg', '837.jpg', '638.jpg', '604.jpg', '162.jpg', '176.jpg', '88.jpg', '610.jpg', '348.jpg', '360.jpg', '406.jpg', '412.jpg', '374.jpg', '1019.jpg', '599.jpg', '1025.jpg', '1031.jpg', '228.jpg', '214.jpg', '572.jpg', '566.jpg', '200.jpg', '957.jpg', '943.jpg', '994.jpg', '758.jpg', '980.jpg', '770.jpg', '764.jpg', '765.jpg', '771.jpg', '981.jpg', '759.jpg', '995.jpg', '942.jpg', '956.jpg', '567.jpg', '201.jpg', '215.jpg', '573.jpg', '229.jpg', '1030.jpg', '1024.jpg', '598.jpg', '1018.jpg', '413.jpg', '375.jpg', '361.jpg', '407.jpg', '349.jpg', '177.jpg', '611.jpg', '89.jpg', '605.jpg', '163.jpg', '639.jpg', '188.jpg', '836.jpg', '76.jpg', '822.jpg', '62.jpg', '74.jpg', '834.jpg', '60.jpg', '820.jpg', '48.jpg', '808.jpg', '149.jpg', '613.jpg', '175.jpg', '161.jpg', '607.jpg', '388.jpg', '439.jpg', '377.jpg', '411.jpg', '405.jpg', '363.jpg', '1032.jpg', '1026.jpg', '559.jpg', '203.jpg', '565.jpg', '571.jpg', '217.jpg', '940.jpg', '798.jpg', '954.jpg', '968.jpg', '983.jpg', '997.jpg', '767.jpg', '773.jpg', '772.jpg', '766.jpg', '996.jpg', '982.jpg', '969.jpg', '955.jpg', '799.jpg', '941.jpg', '570.jpg', '216.jpg', '202.jpg', '564.jpg', '558.jpg', '1027.jpg', '1033.jpg', '404.jpg', '362.jpg', '376.jpg', '410.jpg', '438.jpg', '389.jpg', '160.jpg', '606.jpg', '612.jpg', '174.jpg', '148.jpg', '809.jpg', '49.jpg', '821.jpg', '61.jpg', '835.jpg', '75.jpg', '59.jpg', '819.jpg', '71.jpg', '831.jpg', '65.jpg', '825.jpg', '170.jpg', '616.jpg', '602.jpg', '164.jpg', '158.jpg', '399.jpg', '414.jpg', '372.jpg', '366.jpg', '400.jpg', '428.jpg', '1037.jpg', '1023.jpg', '560.jpg', '206.jpg', '212.jpg', '574.jpg', '548.jpg', '979.jpg', '945.jpg', '951.jpg', '789.jpg', '762.jpg', '776.jpg', '986.jpg', '992.jpg', '993.jpg', '987.jpg', '777.jpg', '763.jpg', '788.jpg', '950.jpg', '944.jpg', '978.jpg', '549.jpg', '213.jpg', '575.jpg', '561.jpg', '207.jpg', '1022.jpg', '1036.jpg', '429.jpg', '367.jpg', '401.jpg', '415.jpg', '373.jpg', '398.jpg', '159.jpg', '603.jpg', '165.jpg', '171.jpg', '617.jpg', '824.jpg', '64.jpg', '830.jpg', '70.jpg', '818.jpg', '58.jpg', '8.jpg', '198.jpg', '66.jpg', '826.jpg', '72.jpg', '832.jpg', '167.jpg', '601.jpg', '99.jpg', '615.jpg', '173.jpg', '629.jpg', '403.jpg', '365.jpg', '371.jpg', '417.jpg', '359.jpg', '1020.jpg', '1034.jpg', '588.jpg', '1008.jpg', '577.jpg', '211.jpg', '205.jpg', '563.jpg', '239.jpg', '952.jpg', '946.jpg', '775.jpg', '761.jpg', '749.jpg', '991.jpg', '985.jpg', '984.jpg', '990.jpg', '748.jpg', '760.jpg', '774.jpg', '947.jpg', '953.jpg', '238.jpg', '204.jpg', '562.jpg', '576.jpg', '210.jpg', '1009.jpg', '589.jpg', '1035.jpg', '1021.jpg', '358.jpg', '370.jpg', '416.jpg', '402.jpg', '364.jpg', '628.jpg', '614.jpg', '172.jpg', '166.jpg', '98.jpg', '600.jpg', '833.jpg', '73.jpg', '199.jpg', '827.jpg', '67.jpg', '9.jpg', '698.jpg', '840.jpg', '14.jpg', '854.jpg', '28.jpg', '868.jpg', '883.jpg', '897.jpg', '129.jpg', '101.jpg', '667.jpg', '673.jpg', '115.jpg', '459.jpg', '465.jpg', '303.jpg', '317.jpg', '471.jpg', '288.jpg', '1046.jpg', '1052.jpg', '539.jpg', '511.jpg', '1085.jpg', '277.jpg', '263.jpg', '1091.jpg', '505.jpg', '934.jpg', '920.jpg', '908.jpg', '713.jpg', '707.jpg', '706.jpg', '712.jpg', '909.jpg', '921.jpg', '935.jpg', '262.jpg', '504.jpg', '1090.jpg', '1084.jpg', '510.jpg', '276.jpg', '538.jpg', '1053.jpg', '1047.jpg', '289.jpg', '316.jpg', '470.jpg', '464.jpg', '302.jpg', '458.jpg', '672.jpg', '114.jpg', '100.jpg', '666.jpg', '896.jpg', '128.jpg', '882.jpg', '869.jpg', '29.jpg', '855.jpg', '15.jpg', '841.jpg', '699.jpg', '17.jpg', '857.jpg', '843.jpg', '894.jpg', '880.jpg', '658.jpg', '116.jpg', '670.jpg', '664.jpg', '102.jpg', '499.jpg', '328.jpg', '472.jpg', '314.jpg', '300.jpg', '466.jpg', '1079.jpg', '1051.jpg', '1045.jpg', '248.jpg', '1092.jpg', '506.jpg', '260.jpg', '274.jpg', '512.jpg', '1086.jpg', '923.jpg', '937.jpg', '738.jpg', '704.jpg', '710.jpg', '711.jpg', '705.jpg', '739.jpg', '936.jpg', '922.jpg', '275.jpg', '1087.jpg', '513.jpg', '507.jpg', '1093.jpg', '261.jpg', '249.jpg', '1044.jpg', '1050.jpg', '1078.jpg', '301.jpg', '467.jpg', '473.jpg', '315.jpg', '329.jpg', '498.jpg', '665.jpg', '103.jpg', '117.jpg', '671.jpg', '659.jpg', '881.jpg', '895.jpg', '842.jpg', '856.jpg', '16.jpg', '12.jpg', '852.jpg', '846.jpg', '675.jpg', '113.jpg', '107.jpg', '661.jpg', '891.jpg', '649.jpg', '885.jpg', '488.jpg', '311.jpg', '477.jpg', '463.jpg', '305.jpg', '339.jpg', '1054.jpg', '1040.jpg', '1068.jpg', '265.jpg', '1097.jpg', '503.jpg', '517.jpg', '1083.jpg', '271.jpg', '259.jpg', '926.jpg', '932.jpg', '701.jpg', '715.jpg', '729.jpg', '728.jpg', '714.jpg', '700.jpg', '933.jpg', '927.jpg', '258.jpg', '1082.jpg', '516.jpg', '270.jpg', '264.jpg', '502.jpg', '1096.jpg', '1069.jpg', '1041.jpg', '1055.jpg', '338.jpg', '462.jpg', '304.jpg', '310.jpg', '476.jpg', '489.jpg', '884.jpg', '648.jpg', '890.jpg', '106.jpg', '660.jpg', '674.jpg', '112.jpg', '847.jpg', '853.jpg', '13.jpg', '39.jpg', '879.jpg', '845.jpg', '689.jpg', '11.jpg', '851.jpg', '662.jpg', '104.jpg', '110.jpg', '676.jpg', '886.jpg', '138.jpg', '892.jpg', '306.jpg', '460.jpg', '474.jpg', '312.jpg', '448.jpg', '1043.jpg', '1057.jpg', '299.jpg', '272.jpg', '514.jpg', '1080.jpg', '1094.jpg', '500.jpg', '266.jpg', '528.jpg', '919.jpg', '931.jpg', '925.jpg', '716.jpg', '702.jpg', '703.jpg', '717.jpg', '924.jpg', '930.jpg', '918.jpg', '529.jpg', '501.jpg', '1095.jpg', '267.jpg', '273.jpg', '1081.jpg', '515.jpg', '298.jpg', '1056.jpg', '1042.jpg', '449.jpg', '475.jpg', '313.jpg', '307.jpg', '461.jpg', '893.jpg', '887.jpg', '139.jpg', '111.jpg', '677.jpg', '663.jpg', '105.jpg', '850.jpg', '10.jpg', '688.jpg', '844.jpg', '878.jpg', '38.jpg', '21.jpg', '861.jpg', '35.jpg', '875.jpg', '685.jpg', '691.jpg', '849.jpg', '108.jpg', '120.jpg', '646.jpg', '652.jpg', '134.jpg', '487.jpg', '493.jpg', '478.jpg', '444.jpg', '322.jpg', '336.jpg', '450.jpg', '1067.jpg', '295.jpg', '281.jpg', '1073.jpg', '1098.jpg', '518.jpg', '530.jpg', '256.jpg', '242.jpg', '524.jpg', '915.jpg', '901.jpg', '929.jpg', '732.jpg', '726.jpg', '727.jpg', '733.jpg', '928.jpg', '900.jpg', '914.jpg', '243.jpg', '525.jpg', '531.jpg', '257.jpg', '519.jpg', '280.jpg', '1072.jpg', '1066.jpg', '294.jpg', '337.jpg', '451.jpg', '445.jpg', '323.jpg', '479.jpg', '492.jpg', '486.jpg', '653.jpg', '135.jpg', '121.jpg', '647.jpg', '109.jpg', '848.jpg', '690.jpg', '684.jpg', '874.jpg', '34.jpg', '860.jpg', '20.jpg', '36.jpg', '876.jpg', '22.jpg', '862.jpg', '692.jpg', '686.jpg', '679.jpg', '137.jpg', '889.jpg', '651.jpg', '645.jpg', '123.jpg', '490.jpg', '484.jpg', '309.jpg', '453.jpg', '335.jpg', '321.jpg', '447.jpg', '1058.jpg', '1070.jpg', '282.jpg', '296.jpg', '1064.jpg', '269.jpg', '527.jpg', '241.jpg', '255.jpg', '533.jpg', '902.jpg', '916.jpg', '719.jpg', '725.jpg', '731.jpg', '730.jpg', '724.jpg', '718.jpg', '917.jpg', '903.jpg', '254.jpg', '532.jpg', '526.jpg', '240.jpg', '268.jpg', '297.jpg', '1065.jpg', '1071.jpg', '283.jpg', '1059.jpg', '320.jpg', '446.jpg', '452.jpg', '334.jpg', '308.jpg', '485.jpg', '491.jpg', '644.jpg', '122.jpg', '136.jpg', '650.jpg', '888.jpg', '678.jpg', '687.jpg', '693.jpg', '863.jpg', '23.jpg', '877.jpg', '37.jpg', '697.jpg', '683.jpg', '33.jpg', '873.jpg', '27.jpg', '867.jpg', '654.jpg', '132.jpg', '126.jpg', '898.jpg', '640.jpg', '668.jpg', '495.jpg', '481.jpg', '330.jpg', '456.jpg', '442.jpg', '324.jpg', '318.jpg', '287.jpg', '1075.jpg', '1061.jpg', '293.jpg', '1049.jpg', '244.jpg', '522.jpg', '536.jpg', '250.jpg', '278.jpg', '907.jpg', '913.jpg', '720.jpg', '734.jpg', '708.jpg', '709.jpg', '735.jpg', '721.jpg', '912.jpg', '906.jpg', '279.jpg', '537.jpg', '251.jpg', '245.jpg', '523.jpg', '1048.jpg', '1060.jpg', '292.jpg', '286.jpg', '1074.jpg', '319.jpg', '443.jpg', '325.jpg', '331.jpg', '457.jpg', '480.jpg', '494.jpg', '669.jpg', '127.jpg', '641.jpg', '899.jpg', '655.jpg', '133.jpg', '866.jpg', '26.jpg', '872.jpg', '32.jpg', '682.jpg', '696.jpg', '680.jpg', '18.jpg', '858.jpg', '694.jpg', '24.jpg', '864.jpg', '30.jpg', '870.jpg', '643.jpg', '125.jpg', '131.jpg', '657.jpg', '119.jpg', '482.jpg', '496.jpg', '327.jpg', '441.jpg', '455.jpg', '333.jpg', '469.jpg', '290.jpg', '1062.jpg', '1076.jpg', '284.jpg', '253.jpg', '535.jpg', '521.jpg', '247.jpg', '509.jpg', '1089.jpg', '938.jpg', '910.jpg', '904.jpg', '737.jpg', '723.jpg', '722.jpg', '736.jpg', '905.jpg', '911.jpg', '939.jpg', '1088.jpg', '508.jpg', '520.jpg', '246.jpg', '252.jpg', '534.jpg', '1077.jpg', '285.jpg', '291.jpg', '1063.jpg', '468.jpg', '454.jpg', '332.jpg', '326.jpg', '440.jpg', '497.jpg', '483.jpg', '118.jpg', '130.jpg', '656.jpg', '642.jpg', '124.jpg', '871.jpg', '31.jpg', '865.jpg', '25.jpg', '695.jpg', '859.jpg', '19.jpg', '681.jpg', '42.jpg', '802.jpg', '4.jpg', '56.jpg', '816.jpg', '180.jpg', '194.jpg', '81.jpg', '619.jpg', '95.jpg', '625.jpg', '143.jpg', '157.jpg', '631.jpg', '382.jpg', '396.jpg', '369.jpg', '341.jpg', '427.jpg', '433.jpg', '355.jpg', '1038.jpg', '1004.jpg', '590.jpg', '584.jpg', '1010.jpg', '209.jpg', '235.jpg', '553.jpg', '547.jpg', '221.jpg', '976.jpg', '962.jpg', '792.jpg', '786.jpg', '779.jpg', '751.jpg', '989.jpg', '745.jpg', '744.jpg', '988.jpg', '750.jpg', '778.jpg', '787.jpg', '793.jpg', '963.jpg', '977.jpg', '546.jpg', '220.jpg', '234.jpg', '552.jpg', '208.jpg', '1011.jpg', '585.jpg', '591.jpg', '1005.jpg', '1039.jpg', '432.jpg', '354.jpg', '340.jpg', '426.jpg', '368.jpg', '397.jpg', '383.jpg', '156.jpg', '630.jpg', '624.jpg', '142.jpg', '94.jpg', '618.jpg', '80.jpg', '195.jpg', '181.jpg', '5.jpg', '817.jpg', '57.jpg', '803.jpg', '43.jpg', '55.jpg', '815.jpg', '7.jpg', '41.jpg', '801.jpg', '69.jpg', '829.jpg', '197.jpg', '183.jpg', '96.jpg', '168.jpg', '82.jpg', '632.jpg', '154.jpg', '140.jpg', '626.jpg', '395.jpg', '381.jpg', '418.jpg', '356.jpg', '430.jpg', '424.jpg', '342.jpg', '587.jpg', '1013.jpg', '1007.jpg', '593.jpg', '578.jpg', '222.jpg', '544.jpg', '550.jpg', '236.jpg', '961.jpg', '975.jpg', '785.jpg', '949.jpg', '791.jpg', '746.jpg', '752.jpg', '753.jpg', '747.jpg', '790.jpg', '948.jpg', '784.jpg', '974.jpg', '960.jpg', '551.jpg', '237.jpg', '223.jpg', '545.jpg', '579.jpg', '592.jpg', '1006.jpg', '1012.jpg', '586.jpg', '425.jpg', '343.jpg', '357.jpg', '431.jpg', '419.jpg', '380.jpg', '394.jpg', '141.jpg', '627.jpg', '633.jpg', '155.jpg', '83.jpg', '97.jpg', '169.jpg', '182.jpg', '828.jpg', '68.jpg', '196.jpg', '800.jpg', '40.jpg', '814.jpg', '54.jpg', '6.jpg', '192.jpg', '78.jpg', '838.jpg', '186.jpg', '2.jpg', '50.jpg', '810.jpg', '44.jpg', '804.jpg', '151.jpg', '637.jpg', '623.jpg', '145.jpg', '93.jpg', '87.jpg', '179.jpg', '390.jpg', '384.jpg', '435.jpg', '353.jpg', '347.jpg', '421.jpg', '409.jpg', '582.jpg', '1016.jpg', '1002.jpg', '596.jpg', '541.jpg', '227.jpg', '233.jpg', '555.jpg', '569.jpg', '958.jpg', '780.jpg', '794.jpg', '964.jpg', '970.jpg', '743.jpg', '757.jpg', '756.jpg', '742.jpg', '971.jpg', '965.jpg', '795.jpg', '781.jpg', '959.jpg', '568.jpg', '232.jpg', '554.jpg', '540.jpg', '226.jpg', '597.jpg', '1003.jpg', '1017.jpg', '583.jpg', '408.jpg', '346.jpg', '420.jpg', '434.jpg', '352.jpg', '385.jpg', '391.jpg', '86.jpg', '178.jpg', '92.jpg', '622.jpg', '144.jpg', '150.jpg', '636.jpg', '805.jpg', '45.jpg', '3.jpg', '811.jpg', '51.jpg', '839.jpg', '79.jpg', '187.jpg', '193.jpg', '185.jpg', '191.jpg', '47.jpg', '807.jpg', '53.jpg', '813.jpg', '1.jpg', '146.jpg', '620.jpg', '634.jpg', '152.jpg', '84.jpg', '608.jpg', '90.jpg', '387.jpg', '393.jpg', '422.jpg', '344.jpg', '350.jpg', '436.jpg', '378.jpg', '1001.jpg', '595.jpg', '581.jpg', '1015.jpg', '1029.jpg', '556.jpg', '230.jpg', '224.jpg', '542.jpg', '218.jpg', '797.jpg', '783.jpg', '973.jpg', '967.jpg', '754.jpg', '740.jpg', '998.jpg', '768.jpg', '769.jpg', '999.jpg', '741.jpg', '755.jpg', '966.jpg', '972.jpg', '782.jpg', '796.jpg', '219.jpg', '225.jpg', '543.jpg', '557.jpg', '231.jpg', '1028.jpg', '1014.jpg', '580.jpg', '594.jpg', '1000.jpg', '379.jpg', '351.jpg', '437.jpg', '423.jpg', '345.jpg', '392.jpg', '386.jpg', '91.jpg', '609.jpg', '85.jpg', '635.jpg', '153.jpg', '147.jpg', '621.jpg', '812.jpg', '52.jpg', '806.jpg', '46.jpg', '190.jpg', '184.jpg']\n"
     ]
    },
    {
     "name": "stderr",
     "output_type": "stream",
     "text": [
      "100%|██████████| 69/69 [00:39<00:00,  1.76it/s]\n"
     ]
    },
    {
     "name": "stdout",
     "output_type": "stream",
     "text": [
      "=> Saving checkpoint\n",
      "=> Saving checkpoint\n"
     ]
    },
    {
     "name": "stderr",
     "output_type": "stream",
     "text": [
      "100%|██████████| 69/69 [00:38<00:00,  1.80it/s]\n",
      "100%|██████████| 69/69 [00:38<00:00,  1.81it/s]\n",
      "100%|██████████| 69/69 [00:38<00:00,  1.81it/s]\n",
      "100%|██████████| 69/69 [00:38<00:00,  1.79it/s]\n",
      "100%|██████████| 69/69 [00:38<00:00,  1.78it/s]\n"
     ]
    },
    {
     "name": "stdout",
     "output_type": "stream",
     "text": [
      "=> Saving checkpoint\n",
      "=> Saving checkpoint\n"
     ]
    },
    {
     "name": "stderr",
     "output_type": "stream",
     "text": [
      "100%|██████████| 69/69 [00:39<00:00,  1.77it/s]\n",
      "100%|██████████| 69/69 [00:38<00:00,  1.80it/s]\n",
      "100%|██████████| 69/69 [00:38<00:00,  1.79it/s]\n",
      "100%|██████████| 69/69 [00:38<00:00,  1.78it/s]\n",
      "100%|██████████| 69/69 [00:38<00:00,  1.81it/s]\n"
     ]
    },
    {
     "name": "stdout",
     "output_type": "stream",
     "text": [
      "=> Saving checkpoint\n",
      "=> Saving checkpoint\n"
     ]
    },
    {
     "name": "stderr",
     "output_type": "stream",
     "text": [
      "100%|██████████| 69/69 [00:37<00:00,  1.82it/s]\n",
      "100%|██████████| 69/69 [00:37<00:00,  1.84it/s]\n",
      "100%|██████████| 69/69 [00:37<00:00,  1.84it/s]\n",
      "100%|██████████| 69/69 [00:37<00:00,  1.85it/s]\n",
      "100%|██████████| 69/69 [00:37<00:00,  1.84it/s]\n"
     ]
    },
    {
     "name": "stdout",
     "output_type": "stream",
     "text": [
      "=> Saving checkpoint\n",
      "=> Saving checkpoint\n"
     ]
    },
    {
     "name": "stderr",
     "output_type": "stream",
     "text": [
      "100%|██████████| 69/69 [00:38<00:00,  1.81it/s]\n",
      "100%|██████████| 69/69 [00:38<00:00,  1.80it/s]\n",
      "100%|██████████| 69/69 [00:38<00:00,  1.81it/s]\n",
      "100%|██████████| 69/69 [00:37<00:00,  1.83it/s]\n",
      "100%|██████████| 69/69 [00:37<00:00,  1.83it/s]\n"
     ]
    },
    {
     "name": "stdout",
     "output_type": "stream",
     "text": [
      "=> Saving checkpoint\n",
      "=> Saving checkpoint\n"
     ]
    },
    {
     "name": "stderr",
     "output_type": "stream",
     "text": [
      "100%|██████████| 69/69 [00:37<00:00,  1.83it/s]\n",
      "100%|██████████| 69/69 [00:38<00:00,  1.81it/s]\n",
      "100%|██████████| 69/69 [00:39<00:00,  1.76it/s]\n",
      "100%|██████████| 69/69 [00:38<00:00,  1.81it/s]\n",
      "100%|██████████| 69/69 [00:38<00:00,  1.80it/s]\n"
     ]
    },
    {
     "name": "stdout",
     "output_type": "stream",
     "text": [
      "=> Saving checkpoint\n",
      "=> Saving checkpoint\n"
     ]
    },
    {
     "name": "stderr",
     "output_type": "stream",
     "text": [
      "100%|██████████| 69/69 [00:38<00:00,  1.77it/s]\n",
      "100%|██████████| 69/69 [00:38<00:00,  1.79it/s]\n",
      "100%|██████████| 69/69 [00:38<00:00,  1.79it/s]\n",
      "100%|██████████| 69/69 [00:38<00:00,  1.79it/s]\n",
      "100%|██████████| 69/69 [00:38<00:00,  1.78it/s]\n"
     ]
    },
    {
     "name": "stdout",
     "output_type": "stream",
     "text": [
      "=> Saving checkpoint\n",
      "=> Saving checkpoint\n"
     ]
    },
    {
     "name": "stderr",
     "output_type": "stream",
     "text": [
      "100%|██████████| 69/69 [00:39<00:00,  1.75it/s]\n",
      "100%|██████████| 69/69 [00:38<00:00,  1.78it/s]\n",
      "100%|██████████| 69/69 [00:38<00:00,  1.78it/s]\n",
      "100%|██████████| 69/69 [00:38<00:00,  1.79it/s]\n",
      "100%|██████████| 69/69 [00:39<00:00,  1.75it/s]\n"
     ]
    },
    {
     "name": "stdout",
     "output_type": "stream",
     "text": [
      "=> Saving checkpoint\n",
      "=> Saving checkpoint\n"
     ]
    },
    {
     "name": "stderr",
     "output_type": "stream",
     "text": [
      "100%|██████████| 69/69 [00:38<00:00,  1.81it/s]\n",
      "100%|██████████| 69/69 [00:38<00:00,  1.81it/s]\n",
      "100%|██████████| 69/69 [00:39<00:00,  1.76it/s]\n",
      "100%|██████████| 69/69 [00:37<00:00,  1.82it/s]\n",
      "100%|██████████| 69/69 [00:37<00:00,  1.83it/s]\n"
     ]
    },
    {
     "name": "stdout",
     "output_type": "stream",
     "text": [
      "=> Saving checkpoint\n",
      "=> Saving checkpoint\n"
     ]
    },
    {
     "name": "stderr",
     "output_type": "stream",
     "text": [
      "100%|██████████| 69/69 [00:37<00:00,  1.83it/s]\n",
      "100%|██████████| 69/69 [00:37<00:00,  1.83it/s]\n",
      "100%|██████████| 69/69 [00:37<00:00,  1.83it/s]\n",
      "100%|██████████| 69/69 [00:37<00:00,  1.83it/s]\n",
      "100%|██████████| 69/69 [00:37<00:00,  1.83it/s]\n"
     ]
    },
    {
     "name": "stdout",
     "output_type": "stream",
     "text": [
      "=> Saving checkpoint\n",
      "=> Saving checkpoint\n"
     ]
    },
    {
     "name": "stderr",
     "output_type": "stream",
     "text": [
      "100%|██████████| 69/69 [00:37<00:00,  1.83it/s]\n",
      "100%|██████████| 69/69 [00:37<00:00,  1.83it/s]\n",
      "100%|██████████| 69/69 [00:37<00:00,  1.83it/s]\n",
      "100%|██████████| 69/69 [00:37<00:00,  1.83it/s]\n",
      "100%|██████████| 69/69 [00:37<00:00,  1.83it/s]\n"
     ]
    },
    {
     "name": "stdout",
     "output_type": "stream",
     "text": [
      "=> Saving checkpoint\n",
      "=> Saving checkpoint\n"
     ]
    },
    {
     "name": "stderr",
     "output_type": "stream",
     "text": [
      "100%|██████████| 69/69 [18:28<00:00, 16.06s/it]    \n",
      "100%|██████████| 69/69 [00:38<00:00,  1.80it/s]\n",
      " 10%|█         | 7/69 [00:04<00:37,  1.65it/s]\n"
     ]
    },
    {
     "ename": "KeyboardInterrupt",
     "evalue": "",
     "output_type": "error",
     "traceback": [
      "\u001b[31m---------------------------------------------------------------------------\u001b[39m",
      "\u001b[31mKeyboardInterrupt\u001b[39m                         Traceback (most recent call last)",
      "\u001b[36mCell\u001b[39m\u001b[36m \u001b[39m\u001b[32mIn[31]\u001b[39m\u001b[32m, line 1\u001b[39m\n\u001b[32m----> \u001b[39m\u001b[32m1\u001b[39m \u001b[43mmain\u001b[49m\u001b[43m(\u001b[49m\u001b[43m)\u001b[49m\n",
      "\u001b[36mCell\u001b[39m\u001b[36m \u001b[39m\u001b[32mIn[30]\u001b[39m\u001b[32m, line 22\u001b[39m, in \u001b[36mmain\u001b[39m\u001b[34m()\u001b[39m\n\u001b[32m     19\u001b[39m val_loader = DataLoader(val_dataset, batch_size=\u001b[32m1\u001b[39m, shuffle=\u001b[38;5;28;01mFalse\u001b[39;00m)\n\u001b[32m     21\u001b[39m \u001b[38;5;28;01mfor\u001b[39;00m epoch \u001b[38;5;129;01min\u001b[39;00m \u001b[38;5;28mrange\u001b[39m(NUM_EPOCHS):\n\u001b[32m---> \u001b[39m\u001b[32m22\u001b[39m     \u001b[43mtrain_fn\u001b[49m\u001b[43m(\u001b[49m\u001b[43mdisc\u001b[49m\u001b[43m,\u001b[49m\u001b[43m \u001b[49m\u001b[43mgen\u001b[49m\u001b[43m,\u001b[49m\u001b[43m \u001b[49m\u001b[43mtrain_loader\u001b[49m\u001b[43m,\u001b[49m\u001b[43m \u001b[49m\u001b[43mopt_disc\u001b[49m\u001b[43m,\u001b[49m\u001b[43m \u001b[49m\u001b[43mopt_gen\u001b[49m\u001b[43m,\u001b[49m\u001b[43m \u001b[49m\u001b[43mL1_LOSS\u001b[49m\u001b[43m,\u001b[49m\u001b[43m \u001b[49m\u001b[43mBCE\u001b[49m\u001b[43m,\u001b[49m\u001b[43m \u001b[49m\u001b[43mg_scalar\u001b[49m\u001b[43m,\u001b[49m\u001b[43m \u001b[49m\u001b[43md_scalar\u001b[49m\u001b[43m)\u001b[49m\n\u001b[32m     24\u001b[39m     \u001b[38;5;28;01mif\u001b[39;00m SAVE_MODEL \u001b[38;5;129;01mand\u001b[39;00m epoch % \u001b[32m5\u001b[39m == \u001b[32m0\u001b[39m:\n\u001b[32m     25\u001b[39m         save_checkpoint(gen, opt_gen, filename=CHECKPOINT_GEN)\n",
      "\u001b[36mCell\u001b[39m\u001b[36m \u001b[39m\u001b[32mIn[29]\u001b[39m\u001b[32m, line 18\u001b[39m, in \u001b[36mtrain_fn\u001b[39m\u001b[34m(disc, gen, loader, opt_disc, opt_gen, l1, bce, g_scalar, d_scalar)\u001b[39m\n\u001b[32m     16\u001b[39m disc.zero_grad()\n\u001b[32m     17\u001b[39m d_scalar.scale(D_loss).backward()\n\u001b[32m---> \u001b[39m\u001b[32m18\u001b[39m \u001b[43md_scalar\u001b[49m\u001b[43m.\u001b[49m\u001b[43mstep\u001b[49m\u001b[43m(\u001b[49m\u001b[43mopt_disc\u001b[49m\u001b[43m)\u001b[49m\n\u001b[32m     19\u001b[39m d_scalar.update()\n\u001b[32m     21\u001b[39m \u001b[38;5;66;03m# Train the Generator\u001b[39;00m\n",
      "\u001b[36mFile \u001b[39m\u001b[32m~/Desktop/coding-projects/deep_learning_courses/GANs_in_Action/gans_in_action_env/lib/python3.13/site-packages/torch/amp/grad_scaler.py:465\u001b[39m, in \u001b[36mGradScaler.step\u001b[39m\u001b[34m(self, optimizer, *args, **kwargs)\u001b[39m\n\u001b[32m    459\u001b[39m     \u001b[38;5;28mself\u001b[39m.unscale_(optimizer)\n\u001b[32m    461\u001b[39m \u001b[38;5;28;01massert\u001b[39;00m (\n\u001b[32m    462\u001b[39m     \u001b[38;5;28mlen\u001b[39m(optimizer_state[\u001b[33m\"\u001b[39m\u001b[33mfound_inf_per_device\u001b[39m\u001b[33m\"\u001b[39m]) > \u001b[32m0\u001b[39m\n\u001b[32m    463\u001b[39m ), \u001b[33m\"\u001b[39m\u001b[33mNo inf checks were recorded for this optimizer.\u001b[39m\u001b[33m\"\u001b[39m\n\u001b[32m--> \u001b[39m\u001b[32m465\u001b[39m retval = \u001b[38;5;28;43mself\u001b[39;49m\u001b[43m.\u001b[49m\u001b[43m_maybe_opt_step\u001b[49m\u001b[43m(\u001b[49m\u001b[43moptimizer\u001b[49m\u001b[43m,\u001b[49m\u001b[43m \u001b[49m\u001b[43moptimizer_state\u001b[49m\u001b[43m,\u001b[49m\u001b[43m \u001b[49m\u001b[43m*\u001b[49m\u001b[43margs\u001b[49m\u001b[43m,\u001b[49m\u001b[43m \u001b[49m\u001b[43m*\u001b[49m\u001b[43m*\u001b[49m\u001b[43mkwargs\u001b[49m\u001b[43m)\u001b[49m\n\u001b[32m    467\u001b[39m optimizer_state[\u001b[33m\"\u001b[39m\u001b[33mstage\u001b[39m\u001b[33m\"\u001b[39m] = OptState.STEPPED\n\u001b[32m    469\u001b[39m \u001b[38;5;28;01mreturn\u001b[39;00m retval\n",
      "\u001b[36mFile \u001b[39m\u001b[32m~/Desktop/coding-projects/deep_learning_courses/GANs_in_Action/gans_in_action_env/lib/python3.13/site-packages/torch/amp/grad_scaler.py:359\u001b[39m, in \u001b[36mGradScaler._maybe_opt_step\u001b[39m\u001b[34m(self, optimizer, optimizer_state, *args, **kwargs)\u001b[39m\n\u001b[32m    351\u001b[39m \u001b[38;5;28;01mdef\u001b[39;00m\u001b[38;5;250m \u001b[39m\u001b[34m_maybe_opt_step\u001b[39m(\n\u001b[32m    352\u001b[39m     \u001b[38;5;28mself\u001b[39m,\n\u001b[32m    353\u001b[39m     optimizer: torch.optim.Optimizer,\n\u001b[32m   (...)\u001b[39m\u001b[32m    356\u001b[39m     **kwargs: Any,\n\u001b[32m    357\u001b[39m ) -> Optional[\u001b[38;5;28mfloat\u001b[39m]:\n\u001b[32m    358\u001b[39m     retval: Optional[\u001b[38;5;28mfloat\u001b[39m] = \u001b[38;5;28;01mNone\u001b[39;00m\n\u001b[32m--> \u001b[39m\u001b[32m359\u001b[39m     \u001b[38;5;28;01mif\u001b[39;00m \u001b[38;5;129;01mnot\u001b[39;00m \u001b[38;5;28;43msum\u001b[39;49m\u001b[43m(\u001b[49m\u001b[43mv\u001b[49m\u001b[43m.\u001b[49m\u001b[43mitem\u001b[49m\u001b[43m(\u001b[49m\u001b[43m)\u001b[49m\u001b[43m \u001b[49m\u001b[38;5;28;43;01mfor\u001b[39;49;00m\u001b[43m \u001b[49m\u001b[43mv\u001b[49m\u001b[43m \u001b[49m\u001b[38;5;129;43;01min\u001b[39;49;00m\u001b[43m \u001b[49m\u001b[43moptimizer_state\u001b[49m\u001b[43m[\u001b[49m\u001b[33;43m\"\u001b[39;49m\u001b[33;43mfound_inf_per_device\u001b[39;49m\u001b[33;43m\"\u001b[39;49m\u001b[43m]\u001b[49m\u001b[43m.\u001b[49m\u001b[43mvalues\u001b[49m\u001b[43m(\u001b[49m\u001b[43m)\u001b[49m\u001b[43m)\u001b[49m:\n\u001b[32m    360\u001b[39m         retval = optimizer.step(*args, **kwargs)\n\u001b[32m    361\u001b[39m     \u001b[38;5;28;01mreturn\u001b[39;00m retval\n",
      "\u001b[36mFile \u001b[39m\u001b[32m~/Desktop/coding-projects/deep_learning_courses/GANs_in_Action/gans_in_action_env/lib/python3.13/site-packages/torch/amp/grad_scaler.py:359\u001b[39m, in \u001b[36m<genexpr>\u001b[39m\u001b[34m(.0)\u001b[39m\n\u001b[32m    351\u001b[39m \u001b[38;5;28;01mdef\u001b[39;00m\u001b[38;5;250m \u001b[39m\u001b[34m_maybe_opt_step\u001b[39m(\n\u001b[32m    352\u001b[39m     \u001b[38;5;28mself\u001b[39m,\n\u001b[32m    353\u001b[39m     optimizer: torch.optim.Optimizer,\n\u001b[32m   (...)\u001b[39m\u001b[32m    356\u001b[39m     **kwargs: Any,\n\u001b[32m    357\u001b[39m ) -> Optional[\u001b[38;5;28mfloat\u001b[39m]:\n\u001b[32m    358\u001b[39m     retval: Optional[\u001b[38;5;28mfloat\u001b[39m] = \u001b[38;5;28;01mNone\u001b[39;00m\n\u001b[32m--> \u001b[39m\u001b[32m359\u001b[39m     \u001b[38;5;28;01mif\u001b[39;00m \u001b[38;5;129;01mnot\u001b[39;00m \u001b[38;5;28msum\u001b[39m(\u001b[43mv\u001b[49m\u001b[43m.\u001b[49m\u001b[43mitem\u001b[49m\u001b[43m(\u001b[49m\u001b[43m)\u001b[49m \u001b[38;5;28;01mfor\u001b[39;00m v \u001b[38;5;129;01min\u001b[39;00m optimizer_state[\u001b[33m\"\u001b[39m\u001b[33mfound_inf_per_device\u001b[39m\u001b[33m\"\u001b[39m].values()):\n\u001b[32m    360\u001b[39m         retval = optimizer.step(*args, **kwargs)\n\u001b[32m    361\u001b[39m     \u001b[38;5;28;01mreturn\u001b[39;00m retval\n",
      "\u001b[31mKeyboardInterrupt\u001b[39m: "
     ]
    }
   ],
   "source": [
    "main()"
   ]
  },
  {
   "cell_type": "code",
   "execution_count": null,
   "id": "66a8c2c0",
   "metadata": {},
   "outputs": [],
   "source": []
  }
 ],
 "metadata": {
  "kernelspec": {
   "display_name": "gans_in_action_env",
   "language": "python",
   "name": "python3"
  },
  "language_info": {
   "codemirror_mode": {
    "name": "ipython",
    "version": 3
   },
   "file_extension": ".py",
   "mimetype": "text/x-python",
   "name": "python",
   "nbconvert_exporter": "python",
   "pygments_lexer": "ipython3",
   "version": "3.13.5"
  }
 },
 "nbformat": 4,
 "nbformat_minor": 5
}
